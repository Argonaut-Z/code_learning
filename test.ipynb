{
 "cells": [
  {
   "cell_type": "markdown",
   "id": "dd5fc84a",
   "metadata": {},
   "source": [
    "## 设置环境变量和路径"
   ]
  },
  {
   "cell_type": "code",
   "execution_count": 1,
   "id": "2e3ff515",
   "metadata": {},
   "outputs": [],
   "source": [
    "import os\n",
    "import sys\n",
    "\n",
    "os.environ[\"DPBAG_DP_USERNAME\"] = \"perceptionteam\"\n",
    "os.environ[\"DPBAG_DP_PASSWORD\"] = \"r6zR86V4*+=*\"\n",
    "\n",
    "# 手动设置 PYTHONPATH 环境变量\n",
    "os.environ[\"PYTHONPATH\"] = (\n",
    "    \"/mnt/csi-data-aly/shared/shenzhen/ppsim/trajcaching_v3/debs/proto:\"\n",
    "    \"/mnt/csi-data-aly/shared/shenzhen/ppsim/trajcaching_v3/debs/scenariohouse:\"\n",
    "    \"/home/sunpeiyuan/deeproute/datamining/trajcaching\"\n",
    ")\n",
    "\n",
    "# 将 PYTHONPATH 中的路径真正加入 Python 导入路径\n",
    "for p in os.environ[\"PYTHONPATH\"].split(\":\"):\n",
    "    if p not in sys.path:\n",
    "        sys.path.insert(0, p)"
   ]
  },
  {
   "cell_type": "markdown",
   "id": "4447abd8",
   "metadata": {},
   "source": [
    "## 查看record和feature数据"
   ]
  },
  {
   "cell_type": "markdown",
   "id": "7a455c94",
   "metadata": {},
   "source": [
    "### 查看record"
   ]
  },
  {
   "cell_type": "code",
   "execution_count": 2,
   "id": "36e717ce",
   "metadata": {},
   "outputs": [],
   "source": [
    "import pickle\n",
    "\n",
    "record_path = '/home/sunpeiyuan/deeproute/tmp/feature_bmk/record/pp_ci/23603589/5805274/1743495543000000.pkl'\n",
    "with open(record_path, 'rb') as f:\n",
    "    data = pickle.load(f)\n",
    "    data.data.unzip()\n",
    "\n",
    "# data.tag    --> trip、时间戳及feature等信息\n",
    "# data.data.visualize() --> 递归调用多个feature的可视化方法\n",
    "# data.data   -->    访问具体的feature数据, data.data.YOUR_FEATURE_NAME.data\n",
    "# data.zip()/data.unzip() -> 递归调用feature的压缩、解压缩方法"
   ]
  },
  {
   "cell_type": "code",
   "execution_count": 3,
   "id": "3ded2ea5",
   "metadata": {},
   "outputs": [
    {
     "name": "stdout",
     "output_type": "stream",
     "text": [
      "dict_keys(['required_features', 'optional_features', 'occupancy_max_x', 'occupancy_min_x', 'occupancy_max_y', 'occupancy_min_y', 'structure_sdmap_horizon_max_x', 'structure_sdmap_horizon_min_x', 'structure_sdmap_horizon_max_y', 'structure_sdmap_horizon_min_y', 'structure_sdmap_routing_max_x', 'structure_sdmap_routing_min_x', 'raw_image.camera1.coeff.extrinsic', 'raw_image.camera1.coeff.intrinsic', 'raw_image.camera1.coeff.distortion', 'raw_image.camera1.coeff.image_size', 'lidar_cfg', 'vehicle_cfg', 'tag_attribute', 'feishu_label', 'drtags'])\n"
     ]
    }
   ],
   "source": [
    "print(data.tag.keys())"
   ]
  },
  {
   "cell_type": "code",
   "execution_count": 4,
   "id": "f4054bcc",
   "metadata": {},
   "outputs": [
    {
     "data": {
      "text/plain": [
       "trajcaching.abstract_record.AttrFeatureData"
      ]
     },
     "execution_count": 4,
     "metadata": {},
     "output_type": "execute_result"
    }
   ],
   "source": [
    "record_data = data.data\n",
    "type(record_data)"
   ]
  },
  {
   "cell_type": "code",
   "execution_count": 5,
   "id": "e1993034",
   "metadata": {},
   "outputs": [
    {
     "data": {
      "text/plain": [
       "array([[ 0.0000e+00,  0.0000e+00,  0.0000e+00,  0.0000e+00,  0.0000e+00,\n",
       "         0.0000e+00,  0.0000e+00,  0.0000e+00,  0.0000e+00,  0.0000e+00,\n",
       "         0.0000e+00,  0.0000e+00,  0.0000e+00,  0.0000e+00,  0.0000e+00,\n",
       "         0.0000e+00,  0.0000e+00],\n",
       "       [ 0.0000e+00,  0.0000e+00,  0.0000e+00,  0.0000e+00,  0.0000e+00,\n",
       "         0.0000e+00,  0.0000e+00,  0.0000e+00,  0.0000e+00,  0.0000e+00,\n",
       "         0.0000e+00,  0.0000e+00,  0.0000e+00,  0.0000e+00,  0.0000e+00,\n",
       "         0.0000e+00,  0.0000e+00],\n",
       "       [ 0.0000e+00,  0.0000e+00,  0.0000e+00,  0.0000e+00,  0.0000e+00,\n",
       "         0.0000e+00,  0.0000e+00,  0.0000e+00,  0.0000e+00,  0.0000e+00,\n",
       "         0.0000e+00,  0.0000e+00,  0.0000e+00,  0.0000e+00,  0.0000e+00,\n",
       "         0.0000e+00,  0.0000e+00],\n",
       "       [ 0.0000e+00,  0.0000e+00,  0.0000e+00,  0.0000e+00,  0.0000e+00,\n",
       "         0.0000e+00,  0.0000e+00,  0.0000e+00,  0.0000e+00,  0.0000e+00,\n",
       "         0.0000e+00,  0.0000e+00,  0.0000e+00,  0.0000e+00,  0.0000e+00,\n",
       "         0.0000e+00,  0.0000e+00],\n",
       "       [ 0.0000e+00,  0.0000e+00,  0.0000e+00,  0.0000e+00,  0.0000e+00,\n",
       "         0.0000e+00,  0.0000e+00,  0.0000e+00,  0.0000e+00,  0.0000e+00,\n",
       "         0.0000e+00,  0.0000e+00,  0.0000e+00,  0.0000e+00,  0.0000e+00,\n",
       "         0.0000e+00,  0.0000e+00],\n",
       "       [ 0.0000e+00,  0.0000e+00,  0.0000e+00,  0.0000e+00,  0.0000e+00,\n",
       "         0.0000e+00,  0.0000e+00,  0.0000e+00,  0.0000e+00,  0.0000e+00,\n",
       "         0.0000e+00,  0.0000e+00,  0.0000e+00,  0.0000e+00,  0.0000e+00,\n",
       "         0.0000e+00,  0.0000e+00],\n",
       "       [ 0.0000e+00,  0.0000e+00,  0.0000e+00,  0.0000e+00,  0.0000e+00,\n",
       "         0.0000e+00,  0.0000e+00,  0.0000e+00,  0.0000e+00,  0.0000e+00,\n",
       "         0.0000e+00,  0.0000e+00,  0.0000e+00,  0.0000e+00,  0.0000e+00,\n",
       "         0.0000e+00,  0.0000e+00],\n",
       "       [ 0.0000e+00,  0.0000e+00,  0.0000e+00,  0.0000e+00,  0.0000e+00,\n",
       "         0.0000e+00,  0.0000e+00,  0.0000e+00,  0.0000e+00,  0.0000e+00,\n",
       "         0.0000e+00,  0.0000e+00,  0.0000e+00,  0.0000e+00,  0.0000e+00,\n",
       "         0.0000e+00,  0.0000e+00],\n",
       "       [ 0.0000e+00,  0.0000e+00,  0.0000e+00,  0.0000e+00,  0.0000e+00,\n",
       "         0.0000e+00,  0.0000e+00,  0.0000e+00,  0.0000e+00,  0.0000e+00,\n",
       "         0.0000e+00,  0.0000e+00,  0.0000e+00,  0.0000e+00,  0.0000e+00,\n",
       "         0.0000e+00,  0.0000e+00],\n",
       "       [ 0.0000e+00,  0.0000e+00,  0.0000e+00,  0.0000e+00,  0.0000e+00,\n",
       "         0.0000e+00,  0.0000e+00,  0.0000e+00,  0.0000e+00,  0.0000e+00,\n",
       "         0.0000e+00,  0.0000e+00,  0.0000e+00,  0.0000e+00,  0.0000e+00,\n",
       "         0.0000e+00,  0.0000e+00],\n",
       "       [ 0.0000e+00,  0.0000e+00,  0.0000e+00,  0.0000e+00,  0.0000e+00,\n",
       "         0.0000e+00,  0.0000e+00,  0.0000e+00,  0.0000e+00,  0.0000e+00,\n",
       "         0.0000e+00,  0.0000e+00,  0.0000e+00,  0.0000e+00,  0.0000e+00,\n",
       "         0.0000e+00,  0.0000e+00],\n",
       "       [ 0.0000e+00,  0.0000e+00,  0.0000e+00,  0.0000e+00,  0.0000e+00,\n",
       "         0.0000e+00,  0.0000e+00,  0.0000e+00,  0.0000e+00,  0.0000e+00,\n",
       "         0.0000e+00,  0.0000e+00,  0.0000e+00,  0.0000e+00,  0.0000e+00,\n",
       "         0.0000e+00,  0.0000e+00],\n",
       "       [ 0.0000e+00,  0.0000e+00,  0.0000e+00,  0.0000e+00,  0.0000e+00,\n",
       "         0.0000e+00,  0.0000e+00,  0.0000e+00,  0.0000e+00,  0.0000e+00,\n",
       "         0.0000e+00,  0.0000e+00,  0.0000e+00,  0.0000e+00,  0.0000e+00,\n",
       "         0.0000e+00,  0.0000e+00],\n",
       "       [ 0.0000e+00,  0.0000e+00,  0.0000e+00,  0.0000e+00,  0.0000e+00,\n",
       "         0.0000e+00,  0.0000e+00,  0.0000e+00,  0.0000e+00,  0.0000e+00,\n",
       "         0.0000e+00,  0.0000e+00,  0.0000e+00,  0.0000e+00,  0.0000e+00,\n",
       "         0.0000e+00,  0.0000e+00],\n",
       "       [ 0.0000e+00,  0.0000e+00,  0.0000e+00,  0.0000e+00,  0.0000e+00,\n",
       "         0.0000e+00,  0.0000e+00,  0.0000e+00,  0.0000e+00,  0.0000e+00,\n",
       "         0.0000e+00,  0.0000e+00,  0.0000e+00,  0.0000e+00,  0.0000e+00,\n",
       "         0.0000e+00,  0.0000e+00],\n",
       "       [ 0.0000e+00,  0.0000e+00,  0.0000e+00,  0.0000e+00,  0.0000e+00,\n",
       "         0.0000e+00,  0.0000e+00,  0.0000e+00,  0.0000e+00,  0.0000e+00,\n",
       "         0.0000e+00,  0.0000e+00,  0.0000e+00,  0.0000e+00,  0.0000e+00,\n",
       "         0.0000e+00,  0.0000e+00],\n",
       "       [ 0.0000e+00,  0.0000e+00,  0.0000e+00,  0.0000e+00,  0.0000e+00,\n",
       "         0.0000e+00,  0.0000e+00,  0.0000e+00,  0.0000e+00,  0.0000e+00,\n",
       "         0.0000e+00,  0.0000e+00,  0.0000e+00,  0.0000e+00,  0.0000e+00,\n",
       "         0.0000e+00,  0.0000e+00],\n",
       "       [ 0.0000e+00,  0.0000e+00,  0.0000e+00,  0.0000e+00,  0.0000e+00,\n",
       "         0.0000e+00,  0.0000e+00,  0.0000e+00,  0.0000e+00,  0.0000e+00,\n",
       "         0.0000e+00,  0.0000e+00,  0.0000e+00,  0.0000e+00,  0.0000e+00,\n",
       "         0.0000e+00,  0.0000e+00],\n",
       "       [ 0.0000e+00,  0.0000e+00,  0.0000e+00,  0.0000e+00,  0.0000e+00,\n",
       "         0.0000e+00,  0.0000e+00,  0.0000e+00,  0.0000e+00,  0.0000e+00,\n",
       "         0.0000e+00,  0.0000e+00,  0.0000e+00,  0.0000e+00,  0.0000e+00,\n",
       "         0.0000e+00,  0.0000e+00],\n",
       "       [ 0.0000e+00,  0.0000e+00,  0.0000e+00,  0.0000e+00,  0.0000e+00,\n",
       "         0.0000e+00,  0.0000e+00,  0.0000e+00,  0.0000e+00,  0.0000e+00,\n",
       "         0.0000e+00,  0.0000e+00,  0.0000e+00,  0.0000e+00,  0.0000e+00,\n",
       "         0.0000e+00,  0.0000e+00],\n",
       "       [ 0.0000e+00,  0.0000e+00,  0.0000e+00,  0.0000e+00,  0.0000e+00,\n",
       "         0.0000e+00,  0.0000e+00,  0.0000e+00,  0.0000e+00,  0.0000e+00,\n",
       "         0.0000e+00,  0.0000e+00,  0.0000e+00,  0.0000e+00,  0.0000e+00,\n",
       "         0.0000e+00,  0.0000e+00],\n",
       "       [ 0.0000e+00,  0.0000e+00,  0.0000e+00,  0.0000e+00,  0.0000e+00,\n",
       "         0.0000e+00,  0.0000e+00,  0.0000e+00,  0.0000e+00,  0.0000e+00,\n",
       "         0.0000e+00,  0.0000e+00,  0.0000e+00,  0.0000e+00,  0.0000e+00,\n",
       "         0.0000e+00,  0.0000e+00],\n",
       "       [ 0.0000e+00,  0.0000e+00,  0.0000e+00,  0.0000e+00,  0.0000e+00,\n",
       "         0.0000e+00,  0.0000e+00,  0.0000e+00,  0.0000e+00,  0.0000e+00,\n",
       "         0.0000e+00,  0.0000e+00,  0.0000e+00,  0.0000e+00,  0.0000e+00,\n",
       "         0.0000e+00,  0.0000e+00],\n",
       "       [ 0.0000e+00,  0.0000e+00,  0.0000e+00,  0.0000e+00,  0.0000e+00,\n",
       "         0.0000e+00,  0.0000e+00,  0.0000e+00,  0.0000e+00,  0.0000e+00,\n",
       "         0.0000e+00,  0.0000e+00,  0.0000e+00,  0.0000e+00,  0.0000e+00,\n",
       "         0.0000e+00,  0.0000e+00],\n",
       "       [ 0.0000e+00,  0.0000e+00,  0.0000e+00,  0.0000e+00,  0.0000e+00,\n",
       "         0.0000e+00,  0.0000e+00,  0.0000e+00,  0.0000e+00,  0.0000e+00,\n",
       "         0.0000e+00,  0.0000e+00,  0.0000e+00,  0.0000e+00,  0.0000e+00,\n",
       "         0.0000e+00,  0.0000e+00],\n",
       "       [ 0.0000e+00,  0.0000e+00,  0.0000e+00,  0.0000e+00,  0.0000e+00,\n",
       "         0.0000e+00,  0.0000e+00,  0.0000e+00,  0.0000e+00,  0.0000e+00,\n",
       "         0.0000e+00,  0.0000e+00,  0.0000e+00,  0.0000e+00,  0.0000e+00,\n",
       "         0.0000e+00,  0.0000e+00],\n",
       "       [ 0.0000e+00,  0.0000e+00,  0.0000e+00,  0.0000e+00,  0.0000e+00,\n",
       "         0.0000e+00,  0.0000e+00,  0.0000e+00,  0.0000e+00,  0.0000e+00,\n",
       "         0.0000e+00,  0.0000e+00,  0.0000e+00,  0.0000e+00,  0.0000e+00,\n",
       "         0.0000e+00,  0.0000e+00],\n",
       "       [ 0.0000e+00,  0.0000e+00,  0.0000e+00,  0.0000e+00,  0.0000e+00,\n",
       "         0.0000e+00,  0.0000e+00,  0.0000e+00,  0.0000e+00,  0.0000e+00,\n",
       "         0.0000e+00,  0.0000e+00,  0.0000e+00,  0.0000e+00,  0.0000e+00,\n",
       "         0.0000e+00,  0.0000e+00],\n",
       "       [ 0.0000e+00,  0.0000e+00,  0.0000e+00,  0.0000e+00,  0.0000e+00,\n",
       "         0.0000e+00,  0.0000e+00,  0.0000e+00,  0.0000e+00,  0.0000e+00,\n",
       "         0.0000e+00,  0.0000e+00,  0.0000e+00,  0.0000e+00,  0.0000e+00,\n",
       "         0.0000e+00,  0.0000e+00],\n",
       "       [ 0.0000e+00,  0.0000e+00,  0.0000e+00,  0.0000e+00,  0.0000e+00,\n",
       "         0.0000e+00,  0.0000e+00,  0.0000e+00,  0.0000e+00,  0.0000e+00,\n",
       "         0.0000e+00,  0.0000e+00,  0.0000e+00,  0.0000e+00,  0.0000e+00,\n",
       "         0.0000e+00,  0.0000e+00],\n",
       "       [ 0.0000e+00,  0.0000e+00,  0.0000e+00,  0.0000e+00,  0.0000e+00,\n",
       "         0.0000e+00,  0.0000e+00,  0.0000e+00,  0.0000e+00,  0.0000e+00,\n",
       "         0.0000e+00,  0.0000e+00,  0.0000e+00,  0.0000e+00,  0.0000e+00,\n",
       "         0.0000e+00,  0.0000e+00],\n",
       "       [ 0.0000e+00,  0.0000e+00,  0.0000e+00,  0.0000e+00,  0.0000e+00,\n",
       "         0.0000e+00,  0.0000e+00,  0.0000e+00,  0.0000e+00,  0.0000e+00,\n",
       "         0.0000e+00,  0.0000e+00,  0.0000e+00,  0.0000e+00,  0.0000e+00,\n",
       "         0.0000e+00,  0.0000e+00],\n",
       "       [ 0.0000e+00,  0.0000e+00,  0.0000e+00,  0.0000e+00,  0.0000e+00,\n",
       "         0.0000e+00,  0.0000e+00,  0.0000e+00,  0.0000e+00,  0.0000e+00,\n",
       "         0.0000e+00,  0.0000e+00,  0.0000e+00,  0.0000e+00,  0.0000e+00,\n",
       "         0.0000e+00,  0.0000e+00],\n",
       "       [ 0.0000e+00,  0.0000e+00,  0.0000e+00,  0.0000e+00,  0.0000e+00,\n",
       "         0.0000e+00,  0.0000e+00,  0.0000e+00,  0.0000e+00,  0.0000e+00,\n",
       "         0.0000e+00,  0.0000e+00,  0.0000e+00,  0.0000e+00,  0.0000e+00,\n",
       "         0.0000e+00,  0.0000e+00],\n",
       "       [ 0.0000e+00,  0.0000e+00,  0.0000e+00,  0.0000e+00,  0.0000e+00,\n",
       "         0.0000e+00,  0.0000e+00,  0.0000e+00,  0.0000e+00,  0.0000e+00,\n",
       "         0.0000e+00,  0.0000e+00,  0.0000e+00,  0.0000e+00,  0.0000e+00,\n",
       "         0.0000e+00,  0.0000e+00],\n",
       "       [ 0.0000e+00,  0.0000e+00,  0.0000e+00,  0.0000e+00,  0.0000e+00,\n",
       "         0.0000e+00,  0.0000e+00,  0.0000e+00,  0.0000e+00,  0.0000e+00,\n",
       "         0.0000e+00,  0.0000e+00,  0.0000e+00,  0.0000e+00,  0.0000e+00,\n",
       "         0.0000e+00,  0.0000e+00],\n",
       "       [ 0.0000e+00,  0.0000e+00,  0.0000e+00,  0.0000e+00,  0.0000e+00,\n",
       "         0.0000e+00,  0.0000e+00,  0.0000e+00,  0.0000e+00,  0.0000e+00,\n",
       "         0.0000e+00,  0.0000e+00,  0.0000e+00,  0.0000e+00,  0.0000e+00,\n",
       "         0.0000e+00,  0.0000e+00],\n",
       "       [ 0.0000e+00,  0.0000e+00,  0.0000e+00,  0.0000e+00,  0.0000e+00,\n",
       "         0.0000e+00,  0.0000e+00,  0.0000e+00,  0.0000e+00,  0.0000e+00,\n",
       "         0.0000e+00,  0.0000e+00,  0.0000e+00,  0.0000e+00,  0.0000e+00,\n",
       "         0.0000e+00,  0.0000e+00],\n",
       "       [ 0.0000e+00,  0.0000e+00,  0.0000e+00,  0.0000e+00,  0.0000e+00,\n",
       "         0.0000e+00,  0.0000e+00,  0.0000e+00,  0.0000e+00,  0.0000e+00,\n",
       "         0.0000e+00,  0.0000e+00,  0.0000e+00,  0.0000e+00,  0.0000e+00,\n",
       "         0.0000e+00,  0.0000e+00],\n",
       "       [ 0.0000e+00,  0.0000e+00,  0.0000e+00,  0.0000e+00,  0.0000e+00,\n",
       "         0.0000e+00,  0.0000e+00,  0.0000e+00,  0.0000e+00,  0.0000e+00,\n",
       "         0.0000e+00,  0.0000e+00,  0.0000e+00,  0.0000e+00,  0.0000e+00,\n",
       "         0.0000e+00,  0.0000e+00],\n",
       "       [ 0.0000e+00,  0.0000e+00,  0.0000e+00,  0.0000e+00,  0.0000e+00,\n",
       "         0.0000e+00,  0.0000e+00,  0.0000e+00,  0.0000e+00,  0.0000e+00,\n",
       "         0.0000e+00,  0.0000e+00,  0.0000e+00,  0.0000e+00,  0.0000e+00,\n",
       "         0.0000e+00,  0.0000e+00],\n",
       "       [ 0.0000e+00,  0.0000e+00,  0.0000e+00,  0.0000e+00,  0.0000e+00,\n",
       "         0.0000e+00,  0.0000e+00,  0.0000e+00,  0.0000e+00,  0.0000e+00,\n",
       "         0.0000e+00,  0.0000e+00,  0.0000e+00,  0.0000e+00,  0.0000e+00,\n",
       "         0.0000e+00,  0.0000e+00],\n",
       "       [ 0.0000e+00,  0.0000e+00,  0.0000e+00,  0.0000e+00,  0.0000e+00,\n",
       "         0.0000e+00,  0.0000e+00,  0.0000e+00,  0.0000e+00,  0.0000e+00,\n",
       "         0.0000e+00,  0.0000e+00,  0.0000e+00,  0.0000e+00,  0.0000e+00,\n",
       "         0.0000e+00,  0.0000e+00],\n",
       "       [ 9.9000e+01,  7.0000e+01, -2.7466e-02, -1.1617e+01, -1.2169e-03,\n",
       "        -6.3171e-03,  1.7766e+01,  9.2102e-02,  4.0723e-01,  5.0000e+00,\n",
       "         3.0000e+00,  5.0000e+00,  2.8706e-04,  0.0000e+00,  0.0000e+00,\n",
       "        -2.8027e+00,  1.0000e+00],\n",
       "       [ 9.9000e+01,  7.5000e+01, -2.9907e-02, -9.8438e+00, -1.3046e-03,\n",
       "        -1.1398e-02,  1.7750e+01,  1.0303e-01,  2.4573e-01,  5.0000e+00,\n",
       "         3.0000e+00,  5.0000e+00,  4.3058e-04,  0.0000e+00,  0.0000e+00,\n",
       "        -2.8027e+00,  1.0000e+00],\n",
       "       [ 9.9000e+01,  7.9000e+01, -3.3447e-02, -8.0703e+00, -9.3508e-04,\n",
       "        -1.8494e-02,  1.7734e+01,  5.1086e-02, -4.6501e-03,  5.0000e+00,\n",
       "         3.0000e+00,  5.0000e+00,  5.4216e-04,  0.0000e+00,  0.0000e+00,\n",
       "        -2.8027e+00,  1.0000e+00],\n",
       "       [ 9.9000e+01,  8.4000e+01, -3.4760e-02, -6.3008e+00, -5.2786e-04,\n",
       "        -8.8348e-03,  1.7719e+01,  1.0574e-02, -1.1243e-01,  5.0000e+00,\n",
       "         3.0000e+00,  5.0000e+00,  5.7411e-04,  0.0000e+00,  0.0000e+00,\n",
       "        -2.8027e+00,  1.0000e+00],\n",
       "       [ 9.9000e+01,  8.8000e+01, -3.3844e-02, -4.5352e+00, -2.0039e-04,\n",
       "         5.2681e-03,  1.7688e+01,  3.3936e-02, -2.0190e-01,  5.0000e+00,\n",
       "         3.0000e+00,  5.0000e+00,  5.7411e-04,  0.0000e+00,  0.0000e+00,\n",
       "        -2.8027e+00,  1.0000e+00],\n",
       "       [ 9.9000e+01,  9.3000e+01, -3.0121e-02, -2.7695e+00, -7.5579e-05,\n",
       "         2.1225e-02,  1.7672e+01,  7.3120e-02, -2.3254e-01,  5.0000e+00,\n",
       "         3.0000e+00,  5.0000e+00,  5.7411e-04,  0.0000e+00,  0.0000e+00,\n",
       "        -2.8027e+00,  1.0000e+00],\n",
       "       [ 9.9000e+01,  9.7000e+01, -2.8320e-02, -1.0059e+00, -8.6427e-05,\n",
       "         2.7817e-02,  1.7625e+01,  1.1523e-01, -2.8662e-01,  5.0000e+00,\n",
       "         3.0000e+00,  5.0000e+00,  7.1764e-04,  0.0000e+00,  0.0000e+00,\n",
       "        -2.8027e+00,  1.0000e+00]], dtype=float16)"
      ]
     },
     "execution_count": 5,
     "metadata": {},
     "output_type": "execute_result"
    }
   ],
   "source": [
    "record_data.inputs.structure.past_agent_info.data[0]"
   ]
  },
  {
   "cell_type": "markdown",
   "id": "d7a50d1f",
   "metadata": {},
   "source": [
    "### 查看feature"
   ]
  },
  {
   "cell_type": "code",
   "execution_count": 6,
   "id": "3f96e4dd",
   "metadata": {},
   "outputs": [],
   "source": [
    "import pyarrow.parquet as pq\n",
    "from trajcaching.common.parquet_utils import read_pd\n",
    "\n",
    "# 临时路径\n",
    "# frame.parquet: /tmp/feature_bmk/pp_ci/23603589/5805274/v1-agent.parquet\n",
    "# agent.parquet: /tmp/feature_bmk/pp_ci/23603589/5805274/v1-agent.parquet\n",
    "# frame_pd_path = '/tmp/feature_bmk/pp_ci/23603589/5805274/v1-agent.parquet'\n",
    "# agent_pd_path = '/tmp/feature_bmk/pp_ci/23603589/5805274/v1-agent.parquet'\n",
    "frame_pd_path = '/mnt/csi-data-aly/shared/shenzhen/ppsim/trajcaching_v3/parquet_frame/1742883119.317035/28012888/5960321/v1-frame.parquet'\n",
    "agent_pd_path = '/mnt/csi-data-aly/shared/shenzhen/ppsim/trajcaching_v3/parquet_frame/1742883119.317035/28012888/5960321/v1-agent.parquet'\n",
    "\n",
    "# 使用 pyarrow.parquet 直接读取 Parquet 文件为 pandas DataFrame\n",
    "frame_pd = pq.read_table(frame_pd_path).to_pandas()\n",
    "agent_pd = pq.read_table(agent_pd_path).to_pandas()"
   ]
  },
  {
   "cell_type": "code",
   "execution_count": 7,
   "id": "194544bd",
   "metadata": {},
   "outputs": [
    {
     "data": {
      "text/html": [
       "<div>\n",
       "<style scoped>\n",
       "    .dataframe tbody tr th:only-of-type {\n",
       "        vertical-align: middle;\n",
       "    }\n",
       "\n",
       "    .dataframe tbody tr th {\n",
       "        vertical-align: top;\n",
       "    }\n",
       "\n",
       "    .dataframe thead th {\n",
       "        text-align: right;\n",
       "    }\n",
       "</style>\n",
       "<table border=\"1\" class=\"dataframe\">\n",
       "  <thead>\n",
       "    <tr style=\"text-align: right;\">\n",
       "      <th></th>\n",
       "      <th>agent_id</th>\n",
       "      <th>timestamp</th>\n",
       "      <th>agent_type</th>\n",
       "      <th>pos_x</th>\n",
       "      <th>pos_y</th>\n",
       "      <th>pos_z</th>\n",
       "      <th>heading</th>\n",
       "      <th>vel_x</th>\n",
       "      <th>vel_y</th>\n",
       "      <th>acc_x</th>\n",
       "      <th>acc_y</th>\n",
       "      <th>length</th>\n",
       "      <th>width</th>\n",
       "      <th>height</th>\n",
       "      <th>frame_meta</th>\n",
       "    </tr>\n",
       "  </thead>\n",
       "  <tbody>\n",
       "    <tr>\n",
       "      <th>0</th>\n",
       "      <td>11</td>\n",
       "      <td>1745738623800000</td>\n",
       "      <td>3</td>\n",
       "      <td>131.256521</td>\n",
       "      <td>5.479255</td>\n",
       "      <td>-10.510959</td>\n",
       "      <td>2.850158</td>\n",
       "      <td>-0.292737</td>\n",
       "      <td>0.063936</td>\n",
       "      <td>-0.062401</td>\n",
       "      <td>0.013630</td>\n",
       "      <td>0.683208</td>\n",
       "      <td>0.696982</td>\n",
       "      <td>1.754557</td>\n",
       "      <td>{'acc_x': None, 'acc_y': None, 'agent_id': Non...</td>\n",
       "    </tr>\n",
       "    <tr>\n",
       "      <th>1</th>\n",
       "      <td>12</td>\n",
       "      <td>1745738623800000</td>\n",
       "      <td>3</td>\n",
       "      <td>132.260945</td>\n",
       "      <td>0.001376</td>\n",
       "      <td>-10.552819</td>\n",
       "      <td>-2.163748</td>\n",
       "      <td>0.050175</td>\n",
       "      <td>-0.368514</td>\n",
       "      <td>0.010696</td>\n",
       "      <td>-0.078553</td>\n",
       "      <td>0.725732</td>\n",
       "      <td>0.712920</td>\n",
       "      <td>1.723998</td>\n",
       "      <td>{'acc_x': None, 'acc_y': None, 'agent_id': Non...</td>\n",
       "    </tr>\n",
       "    <tr>\n",
       "      <th>2</th>\n",
       "      <td>13</td>\n",
       "      <td>1745738623800000</td>\n",
       "      <td>3</td>\n",
       "      <td>135.077259</td>\n",
       "      <td>-6.759876</td>\n",
       "      <td>-10.426891</td>\n",
       "      <td>-1.233213</td>\n",
       "      <td>0.195937</td>\n",
       "      <td>-0.326651</td>\n",
       "      <td>0.041766</td>\n",
       "      <td>-0.069630</td>\n",
       "      <td>0.701943</td>\n",
       "      <td>0.743135</td>\n",
       "      <td>1.753610</td>\n",
       "      <td>{'acc_x': None, 'acc_y': None, 'agent_id': Non...</td>\n",
       "    </tr>\n",
       "  </tbody>\n",
       "</table>\n",
       "</div>"
      ],
      "text/plain": [
       "   agent_id         timestamp  agent_type       pos_x     pos_y      pos_z  \\\n",
       "0        11  1745738623800000           3  131.256521  5.479255 -10.510959   \n",
       "1        12  1745738623800000           3  132.260945  0.001376 -10.552819   \n",
       "2        13  1745738623800000           3  135.077259 -6.759876 -10.426891   \n",
       "\n",
       "    heading     vel_x     vel_y     acc_x     acc_y    length     width  \\\n",
       "0  2.850158 -0.292737  0.063936 -0.062401  0.013630  0.683208  0.696982   \n",
       "1 -2.163748  0.050175 -0.368514  0.010696 -0.078553  0.725732  0.712920   \n",
       "2 -1.233213  0.195937 -0.326651  0.041766 -0.069630  0.701943  0.743135   \n",
       "\n",
       "     height                                         frame_meta  \n",
       "0  1.754557  {'acc_x': None, 'acc_y': None, 'agent_id': Non...  \n",
       "1  1.723998  {'acc_x': None, 'acc_y': None, 'agent_id': Non...  \n",
       "2  1.753610  {'acc_x': None, 'acc_y': None, 'agent_id': Non...  "
      ]
     },
     "execution_count": 7,
     "metadata": {},
     "output_type": "execute_result"
    }
   ],
   "source": [
    "agent_pd.head(3)"
   ]
  },
  {
   "cell_type": "code",
   "execution_count": 8,
   "id": "a90e0a6e",
   "metadata": {},
   "outputs": [
    {
     "data": {
      "text/html": [
       "<div>\n",
       "<style scoped>\n",
       "    .dataframe tbody tr th:only-of-type {\n",
       "        vertical-align: middle;\n",
       "    }\n",
       "\n",
       "    .dataframe tbody tr th {\n",
       "        vertical-align: top;\n",
       "    }\n",
       "\n",
       "    .dataframe thead th {\n",
       "        text-align: right;\n",
       "    }\n",
       "</style>\n",
       "<table border=\"1\" class=\"dataframe\">\n",
       "  <thead>\n",
       "    <tr style=\"text-align: right;\">\n",
       "      <th></th>\n",
       "      <th>timestamp</th>\n",
       "      <th>pos_x</th>\n",
       "      <th>pos_y</th>\n",
       "      <th>pos_z</th>\n",
       "      <th>roll</th>\n",
       "      <th>pitch</th>\n",
       "      <th>heading</th>\n",
       "      <th>length</th>\n",
       "      <th>width</th>\n",
       "      <th>height</th>\n",
       "      <th>...</th>\n",
       "      <th>feature_map_pos_x</th>\n",
       "      <th>feature_map_pos_y</th>\n",
       "      <th>feature_map_heading</th>\n",
       "      <th>agent_id</th>\n",
       "      <th>agent_type</th>\n",
       "      <th>vel_x</th>\n",
       "      <th>vel_y</th>\n",
       "      <th>acc_x</th>\n",
       "      <th>acc_y</th>\n",
       "      <th>frame_meta</th>\n",
       "    </tr>\n",
       "  </thead>\n",
       "  <tbody>\n",
       "    <tr>\n",
       "      <th>0</th>\n",
       "      <td>1745738623600000</td>\n",
       "      <td>118.394200</td>\n",
       "      <td>12.271963</td>\n",
       "      <td>-9.586056</td>\n",
       "      <td>0.017476</td>\n",
       "      <td>0.004273</td>\n",
       "      <td>-1.235023</td>\n",
       "      <td>5.0</td>\n",
       "      <td>3.0</td>\n",
       "      <td>2.0</td>\n",
       "      <td>...</td>\n",
       "      <td>118.592598</td>\n",
       "      <td>11.779677</td>\n",
       "      <td>-1.234977</td>\n",
       "      <td>0</td>\n",
       "      <td>5</td>\n",
       "      <td>2.937194</td>\n",
       "      <td>-8.440646</td>\n",
       "      <td>-0.001784</td>\n",
       "      <td>-0.009843</td>\n",
       "      <td>{'acc_x': -0.0017835657820964332, 'acc_y': -0....</td>\n",
       "    </tr>\n",
       "    <tr>\n",
       "      <th>1</th>\n",
       "      <td>1745738623700000</td>\n",
       "      <td>118.688856</td>\n",
       "      <td>11.428543</td>\n",
       "      <td>-9.589886</td>\n",
       "      <td>0.017161</td>\n",
       "      <td>0.003891</td>\n",
       "      <td>-1.234972</td>\n",
       "      <td>5.0</td>\n",
       "      <td>3.0</td>\n",
       "      <td>2.0</td>\n",
       "      <td>...</td>\n",
       "      <td>118.880660</td>\n",
       "      <td>10.954202</td>\n",
       "      <td>-1.234989</td>\n",
       "      <td>0</td>\n",
       "      <td>5</td>\n",
       "      <td>2.936596</td>\n",
       "      <td>-8.441962</td>\n",
       "      <td>-0.001039</td>\n",
       "      <td>-0.011554</td>\n",
       "      <td>{'acc_x': -0.0010391901730914276, 'acc_y': -0....</td>\n",
       "    </tr>\n",
       "    <tr>\n",
       "      <th>2</th>\n",
       "      <td>1745738623800000</td>\n",
       "      <td>118.982766</td>\n",
       "      <td>10.584477</td>\n",
       "      <td>-9.594042</td>\n",
       "      <td>0.017576</td>\n",
       "      <td>0.003714</td>\n",
       "      <td>-1.235027</td>\n",
       "      <td>5.0</td>\n",
       "      <td>3.0</td>\n",
       "      <td>2.0</td>\n",
       "      <td>...</td>\n",
       "      <td>119.175080</td>\n",
       "      <td>10.109937</td>\n",
       "      <td>-1.235088</td>\n",
       "      <td>0</td>\n",
       "      <td>5</td>\n",
       "      <td>2.940355</td>\n",
       "      <td>-8.443378</td>\n",
       "      <td>0.002612</td>\n",
       "      <td>-0.017868</td>\n",
       "      <td>{'acc_x': 0.002612095132075755, 'acc_y': -0.01...</td>\n",
       "    </tr>\n",
       "  </tbody>\n",
       "</table>\n",
       "<p>3 rows × 38 columns</p>\n",
       "</div>"
      ],
      "text/plain": [
       "          timestamp       pos_x      pos_y     pos_z      roll     pitch  \\\n",
       "0  1745738623600000  118.394200  12.271963 -9.586056  0.017476  0.004273   \n",
       "1  1745738623700000  118.688856  11.428543 -9.589886  0.017161  0.003891   \n",
       "2  1745738623800000  118.982766  10.584477 -9.594042  0.017576  0.003714   \n",
       "\n",
       "    heading  length  width  height  ... feature_map_pos_x feature_map_pos_y  \\\n",
       "0 -1.235023     5.0    3.0     2.0  ...        118.592598         11.779677   \n",
       "1 -1.234972     5.0    3.0     2.0  ...        118.880660         10.954202   \n",
       "2 -1.235027     5.0    3.0     2.0  ...        119.175080         10.109937   \n",
       "\n",
       "  feature_map_heading  agent_id  agent_type     vel_x     vel_y     acc_x  \\\n",
       "0           -1.234977         0           5  2.937194 -8.440646 -0.001784   \n",
       "1           -1.234989         0           5  2.936596 -8.441962 -0.001039   \n",
       "2           -1.235088         0           5  2.940355 -8.443378  0.002612   \n",
       "\n",
       "      acc_y                                         frame_meta  \n",
       "0 -0.009843  {'acc_x': -0.0017835657820964332, 'acc_y': -0....  \n",
       "1 -0.011554  {'acc_x': -0.0010391901730914276, 'acc_y': -0....  \n",
       "2 -0.017868  {'acc_x': 0.002612095132075755, 'acc_y': -0.01...  \n",
       "\n",
       "[3 rows x 38 columns]"
      ]
     },
     "execution_count": 8,
     "metadata": {},
     "output_type": "execute_result"
    }
   ],
   "source": [
    "frame_pd.head(3)"
   ]
  },
  {
   "cell_type": "markdown",
   "id": "135df84e",
   "metadata": {},
   "source": [
    "## backfill冒烟测试集feature查看"
   ]
  },
  {
   "cell_type": "markdown",
   "id": "60114497",
   "metadata": {},
   "source": [
    "### structure特征"
   ]
  },
  {
   "cell_type": "markdown",
   "id": "2af51440",
   "metadata": {},
   "source": [
    "#### inputs.structure.past_agent_info"
   ]
  },
  {
   "cell_type": "code",
   "execution_count": 9,
   "id": "ea1dbe93",
   "metadata": {},
   "outputs": [],
   "source": [
    "from trajcaching.common.parquet_utils import read_pd\n",
    "from trajcaching.abstract_feature import AbstractModelFeature"
   ]
  },
  {
   "cell_type": "code",
   "execution_count": 10,
   "id": "9ef41d7e",
   "metadata": {},
   "outputs": [
    {
     "ename": "FileNotFoundError",
     "evalue": "/home/sunpeiyuan/deeproute/worknote/tmp/feature_bmk/pp_ci/23603589/5805274/features/v1-inputs.structure.past_agent_info.parquet",
     "output_type": "error",
     "traceback": [
      "\u001b[0;31m---------------------------------------------------------------------------\u001b[0m",
      "\u001b[0;31mFileNotFoundError\u001b[0m                         Traceback (most recent call last)",
      "Cell \u001b[0;32mIn[10], line 4\u001b[0m\n\u001b[1;32m      1\u001b[0m data_path \u001b[38;5;241m=\u001b[39m \u001b[38;5;124m\"\u001b[39m\u001b[38;5;124m/home/sunpeiyuan/deeproute/worknote/tmp/feature_bmk/pp_ci/23603589/5805274/features/v1-inputs.structure.past_agent_info.parquet\u001b[39m\u001b[38;5;124m\"\u001b[39m\n\u001b[1;32m      3\u001b[0m \u001b[38;5;66;03m# 使用 pyarrow.parquet 直接读取 Parquet 文件为 pandas DataFrame\u001b[39;00m\n\u001b[0;32m----> 4\u001b[0m data \u001b[38;5;241m=\u001b[39m \u001b[43mread_pd\u001b[49m\u001b[43m(\u001b[49m\u001b[43mdata_path\u001b[49m\u001b[43m)\u001b[49m\n\u001b[1;32m      5\u001b[0m data\u001b[38;5;241m.\u001b[39mhead()\n",
      "File \u001b[0;32m~/deeproute/datamining/trajcaching/trajcaching/common/parquet_utils.py:43\u001b[0m, in \u001b[0;36mread_pd\u001b[0;34m(pd_file, cols, need_check, filter_nan_pose, pos_fields)\u001b[0m\n\u001b[1;32m     37\u001b[0m         new_cols \u001b[38;5;241m=\u001b[39m [col \u001b[38;5;28;01mfor\u001b[39;00m col \u001b[38;5;129;01min\u001b[39;00m cols \u001b[38;5;28;01mif\u001b[39;00m col \u001b[38;5;129;01min\u001b[39;00m exists_column_names]\n\u001b[1;32m     38\u001b[0m     df \u001b[38;5;241m=\u001b[39m (\n\u001b[1;32m     39\u001b[0m         pq\u001b[38;5;241m.\u001b[39mread_table(pd_file, columns\u001b[38;5;241m=\u001b[39mnew_cols)\n\u001b[1;32m     40\u001b[0m         \u001b[38;5;241m.\u001b[39mto_pandas()\n\u001b[1;32m     41\u001b[0m         \u001b[38;5;241m.\u001b[39msort_values(\u001b[38;5;124m\"\u001b[39m\u001b[38;5;124mtimestamp\u001b[39m\u001b[38;5;124m\"\u001b[39m)\n\u001b[1;32m     42\u001b[0m     )\n\u001b[0;32m---> 43\u001b[0m df \u001b[38;5;241m=\u001b[39m \u001b[43mpq\u001b[49m\u001b[38;5;241;43m.\u001b[39;49m\u001b[43mread_table\u001b[49m\u001b[43m(\u001b[49m\u001b[43mpd_file\u001b[49m\u001b[43m)\u001b[49m\u001b[38;5;241m.\u001b[39mto_pandas()\u001b[38;5;241m.\u001b[39msort_values(\u001b[38;5;124m\"\u001b[39m\u001b[38;5;124mtimestamp\u001b[39m\u001b[38;5;124m\"\u001b[39m)\n\u001b[1;32m     44\u001b[0m \u001b[38;5;28;01mif\u001b[39;00m filter_nan_pose:\n\u001b[1;32m     45\u001b[0m     df \u001b[38;5;241m=\u001b[39m df\u001b[38;5;241m.\u001b[39mdropna(subset\u001b[38;5;241m=\u001b[39mpos_fields)\n",
      "File \u001b[0;32m~/micromamba/envs/trajcaching-env/lib/python3.9/site-packages/pyarrow/parquet/core.py:1774\u001b[0m, in \u001b[0;36mread_table\u001b[0;34m(source, columns, use_threads, schema, use_pandas_metadata, read_dictionary, memory_map, buffer_size, partitioning, filesystem, filters, ignore_prefixes, pre_buffer, coerce_int96_timestamp_unit, decryption_properties, thrift_string_size_limit, thrift_container_size_limit, page_checksum_verification)\u001b[0m\n\u001b[1;32m   1764\u001b[0m \u001b[38;5;28;01mdef\u001b[39;00m\u001b[38;5;250m \u001b[39m\u001b[38;5;21mread_table\u001b[39m(source, \u001b[38;5;241m*\u001b[39m, columns\u001b[38;5;241m=\u001b[39m\u001b[38;5;28;01mNone\u001b[39;00m, use_threads\u001b[38;5;241m=\u001b[39m\u001b[38;5;28;01mTrue\u001b[39;00m,\n\u001b[1;32m   1765\u001b[0m                schema\u001b[38;5;241m=\u001b[39m\u001b[38;5;28;01mNone\u001b[39;00m, use_pandas_metadata\u001b[38;5;241m=\u001b[39m\u001b[38;5;28;01mFalse\u001b[39;00m, read_dictionary\u001b[38;5;241m=\u001b[39m\u001b[38;5;28;01mNone\u001b[39;00m,\n\u001b[1;32m   1766\u001b[0m                memory_map\u001b[38;5;241m=\u001b[39m\u001b[38;5;28;01mFalse\u001b[39;00m, buffer_size\u001b[38;5;241m=\u001b[39m\u001b[38;5;241m0\u001b[39m, partitioning\u001b[38;5;241m=\u001b[39m\u001b[38;5;124m\"\u001b[39m\u001b[38;5;124mhive\u001b[39m\u001b[38;5;124m\"\u001b[39m,\n\u001b[0;32m   (...)\u001b[0m\n\u001b[1;32m   1770\u001b[0m                thrift_container_size_limit\u001b[38;5;241m=\u001b[39m\u001b[38;5;28;01mNone\u001b[39;00m,\n\u001b[1;32m   1771\u001b[0m                page_checksum_verification\u001b[38;5;241m=\u001b[39m\u001b[38;5;28;01mFalse\u001b[39;00m):\n\u001b[1;32m   1773\u001b[0m     \u001b[38;5;28;01mtry\u001b[39;00m:\n\u001b[0;32m-> 1774\u001b[0m         dataset \u001b[38;5;241m=\u001b[39m \u001b[43mParquetDataset\u001b[49m\u001b[43m(\u001b[49m\n\u001b[1;32m   1775\u001b[0m \u001b[43m            \u001b[49m\u001b[43msource\u001b[49m\u001b[43m,\u001b[49m\n\u001b[1;32m   1776\u001b[0m \u001b[43m            \u001b[49m\u001b[43mschema\u001b[49m\u001b[38;5;241;43m=\u001b[39;49m\u001b[43mschema\u001b[49m\u001b[43m,\u001b[49m\n\u001b[1;32m   1777\u001b[0m \u001b[43m            \u001b[49m\u001b[43mfilesystem\u001b[49m\u001b[38;5;241;43m=\u001b[39;49m\u001b[43mfilesystem\u001b[49m\u001b[43m,\u001b[49m\n\u001b[1;32m   1778\u001b[0m \u001b[43m            \u001b[49m\u001b[43mpartitioning\u001b[49m\u001b[38;5;241;43m=\u001b[39;49m\u001b[43mpartitioning\u001b[49m\u001b[43m,\u001b[49m\n\u001b[1;32m   1779\u001b[0m \u001b[43m            \u001b[49m\u001b[43mmemory_map\u001b[49m\u001b[38;5;241;43m=\u001b[39;49m\u001b[43mmemory_map\u001b[49m\u001b[43m,\u001b[49m\n\u001b[1;32m   1780\u001b[0m \u001b[43m            \u001b[49m\u001b[43mread_dictionary\u001b[49m\u001b[38;5;241;43m=\u001b[39;49m\u001b[43mread_dictionary\u001b[49m\u001b[43m,\u001b[49m\n\u001b[1;32m   1781\u001b[0m \u001b[43m            \u001b[49m\u001b[43mbuffer_size\u001b[49m\u001b[38;5;241;43m=\u001b[39;49m\u001b[43mbuffer_size\u001b[49m\u001b[43m,\u001b[49m\n\u001b[1;32m   1782\u001b[0m \u001b[43m            \u001b[49m\u001b[43mfilters\u001b[49m\u001b[38;5;241;43m=\u001b[39;49m\u001b[43mfilters\u001b[49m\u001b[43m,\u001b[49m\n\u001b[1;32m   1783\u001b[0m \u001b[43m            \u001b[49m\u001b[43mignore_prefixes\u001b[49m\u001b[38;5;241;43m=\u001b[39;49m\u001b[43mignore_prefixes\u001b[49m\u001b[43m,\u001b[49m\n\u001b[1;32m   1784\u001b[0m \u001b[43m            \u001b[49m\u001b[43mpre_buffer\u001b[49m\u001b[38;5;241;43m=\u001b[39;49m\u001b[43mpre_buffer\u001b[49m\u001b[43m,\u001b[49m\n\u001b[1;32m   1785\u001b[0m \u001b[43m            \u001b[49m\u001b[43mcoerce_int96_timestamp_unit\u001b[49m\u001b[38;5;241;43m=\u001b[39;49m\u001b[43mcoerce_int96_timestamp_unit\u001b[49m\u001b[43m,\u001b[49m\n\u001b[1;32m   1786\u001b[0m \u001b[43m            \u001b[49m\u001b[43mdecryption_properties\u001b[49m\u001b[38;5;241;43m=\u001b[39;49m\u001b[43mdecryption_properties\u001b[49m\u001b[43m,\u001b[49m\n\u001b[1;32m   1787\u001b[0m \u001b[43m            \u001b[49m\u001b[43mthrift_string_size_limit\u001b[49m\u001b[38;5;241;43m=\u001b[39;49m\u001b[43mthrift_string_size_limit\u001b[49m\u001b[43m,\u001b[49m\n\u001b[1;32m   1788\u001b[0m \u001b[43m            \u001b[49m\u001b[43mthrift_container_size_limit\u001b[49m\u001b[38;5;241;43m=\u001b[39;49m\u001b[43mthrift_container_size_limit\u001b[49m\u001b[43m,\u001b[49m\n\u001b[1;32m   1789\u001b[0m \u001b[43m            \u001b[49m\u001b[43mpage_checksum_verification\u001b[49m\u001b[38;5;241;43m=\u001b[39;49m\u001b[43mpage_checksum_verification\u001b[49m\u001b[43m,\u001b[49m\n\u001b[1;32m   1790\u001b[0m \u001b[43m        \u001b[49m\u001b[43m)\u001b[49m\n\u001b[1;32m   1791\u001b[0m     \u001b[38;5;28;01mexcept\u001b[39;00m \u001b[38;5;167;01mImportError\u001b[39;00m:\n\u001b[1;32m   1792\u001b[0m         \u001b[38;5;66;03m# fall back on ParquetFile for simple cases when pyarrow.dataset\u001b[39;00m\n\u001b[1;32m   1793\u001b[0m         \u001b[38;5;66;03m# module is not available\u001b[39;00m\n\u001b[1;32m   1794\u001b[0m         \u001b[38;5;28;01mif\u001b[39;00m filters \u001b[38;5;129;01mis\u001b[39;00m \u001b[38;5;129;01mnot\u001b[39;00m \u001b[38;5;28;01mNone\u001b[39;00m:\n",
      "File \u001b[0;32m~/micromamba/envs/trajcaching-env/lib/python3.9/site-packages/pyarrow/parquet/core.py:1361\u001b[0m, in \u001b[0;36mParquetDataset.__init__\u001b[0;34m(self, path_or_paths, filesystem, schema, filters, read_dictionary, memory_map, buffer_size, partitioning, ignore_prefixes, pre_buffer, coerce_int96_timestamp_unit, decryption_properties, thrift_string_size_limit, thrift_container_size_limit, page_checksum_verification)\u001b[0m\n\u001b[1;32m   1357\u001b[0m \u001b[38;5;28;01mif\u001b[39;00m partitioning \u001b[38;5;241m==\u001b[39m \u001b[38;5;124m\"\u001b[39m\u001b[38;5;124mhive\u001b[39m\u001b[38;5;124m\"\u001b[39m:\n\u001b[1;32m   1358\u001b[0m     partitioning \u001b[38;5;241m=\u001b[39m ds\u001b[38;5;241m.\u001b[39mHivePartitioning\u001b[38;5;241m.\u001b[39mdiscover(\n\u001b[1;32m   1359\u001b[0m         infer_dictionary\u001b[38;5;241m=\u001b[39m\u001b[38;5;28;01mTrue\u001b[39;00m)\n\u001b[0;32m-> 1361\u001b[0m \u001b[38;5;28mself\u001b[39m\u001b[38;5;241m.\u001b[39m_dataset \u001b[38;5;241m=\u001b[39m \u001b[43mds\u001b[49m\u001b[38;5;241;43m.\u001b[39;49m\u001b[43mdataset\u001b[49m\u001b[43m(\u001b[49m\u001b[43mpath_or_paths\u001b[49m\u001b[43m,\u001b[49m\u001b[43m \u001b[49m\u001b[43mfilesystem\u001b[49m\u001b[38;5;241;43m=\u001b[39;49m\u001b[43mfilesystem\u001b[49m\u001b[43m,\u001b[49m\n\u001b[1;32m   1362\u001b[0m \u001b[43m                           \u001b[49m\u001b[43mschema\u001b[49m\u001b[38;5;241;43m=\u001b[39;49m\u001b[43mschema\u001b[49m\u001b[43m,\u001b[49m\u001b[43m \u001b[49m\u001b[38;5;28;43mformat\u001b[39;49m\u001b[38;5;241;43m=\u001b[39;49m\u001b[43mparquet_format\u001b[49m\u001b[43m,\u001b[49m\n\u001b[1;32m   1363\u001b[0m \u001b[43m                           \u001b[49m\u001b[43mpartitioning\u001b[49m\u001b[38;5;241;43m=\u001b[39;49m\u001b[43mpartitioning\u001b[49m\u001b[43m,\u001b[49m\n\u001b[1;32m   1364\u001b[0m \u001b[43m                           \u001b[49m\u001b[43mignore_prefixes\u001b[49m\u001b[38;5;241;43m=\u001b[39;49m\u001b[43mignore_prefixes\u001b[49m\u001b[43m)\u001b[49m\n",
      "File \u001b[0;32m~/micromamba/envs/trajcaching-env/lib/python3.9/site-packages/pyarrow/dataset.py:794\u001b[0m, in \u001b[0;36mdataset\u001b[0;34m(source, schema, format, filesystem, partitioning, partition_base_dir, exclude_invalid_files, ignore_prefixes)\u001b[0m\n\u001b[1;32m    783\u001b[0m kwargs \u001b[38;5;241m=\u001b[39m \u001b[38;5;28mdict\u001b[39m(\n\u001b[1;32m    784\u001b[0m     schema\u001b[38;5;241m=\u001b[39mschema,\n\u001b[1;32m    785\u001b[0m     filesystem\u001b[38;5;241m=\u001b[39mfilesystem,\n\u001b[0;32m   (...)\u001b[0m\n\u001b[1;32m    790\u001b[0m     selector_ignore_prefixes\u001b[38;5;241m=\u001b[39mignore_prefixes\n\u001b[1;32m    791\u001b[0m )\n\u001b[1;32m    793\u001b[0m \u001b[38;5;28;01mif\u001b[39;00m _is_path_like(source):\n\u001b[0;32m--> 794\u001b[0m     \u001b[38;5;28;01mreturn\u001b[39;00m \u001b[43m_filesystem_dataset\u001b[49m\u001b[43m(\u001b[49m\u001b[43msource\u001b[49m\u001b[43m,\u001b[49m\u001b[43m \u001b[49m\u001b[38;5;241;43m*\u001b[39;49m\u001b[38;5;241;43m*\u001b[39;49m\u001b[43mkwargs\u001b[49m\u001b[43m)\u001b[49m\n\u001b[1;32m    795\u001b[0m \u001b[38;5;28;01melif\u001b[39;00m \u001b[38;5;28misinstance\u001b[39m(source, (\u001b[38;5;28mtuple\u001b[39m, \u001b[38;5;28mlist\u001b[39m)):\n\u001b[1;32m    796\u001b[0m     \u001b[38;5;28;01mif\u001b[39;00m \u001b[38;5;28mall\u001b[39m(_is_path_like(elem) \u001b[38;5;129;01mor\u001b[39;00m \u001b[38;5;28misinstance\u001b[39m(elem, FileInfo) \u001b[38;5;28;01mfor\u001b[39;00m elem \u001b[38;5;129;01min\u001b[39;00m source):\n",
      "File \u001b[0;32m~/micromamba/envs/trajcaching-env/lib/python3.9/site-packages/pyarrow/dataset.py:476\u001b[0m, in \u001b[0;36m_filesystem_dataset\u001b[0;34m(source, schema, filesystem, partitioning, format, partition_base_dir, exclude_invalid_files, selector_ignore_prefixes)\u001b[0m\n\u001b[1;32m    474\u001b[0m         fs, paths_or_selector \u001b[38;5;241m=\u001b[39m _ensure_multiple_sources(source, filesystem)\n\u001b[1;32m    475\u001b[0m \u001b[38;5;28;01melse\u001b[39;00m:\n\u001b[0;32m--> 476\u001b[0m     fs, paths_or_selector \u001b[38;5;241m=\u001b[39m \u001b[43m_ensure_single_source\u001b[49m\u001b[43m(\u001b[49m\u001b[43msource\u001b[49m\u001b[43m,\u001b[49m\u001b[43m \u001b[49m\u001b[43mfilesystem\u001b[49m\u001b[43m)\u001b[49m\n\u001b[1;32m    478\u001b[0m options \u001b[38;5;241m=\u001b[39m FileSystemFactoryOptions(\n\u001b[1;32m    479\u001b[0m     partitioning\u001b[38;5;241m=\u001b[39mpartitioning,\n\u001b[1;32m    480\u001b[0m     partition_base_dir\u001b[38;5;241m=\u001b[39mpartition_base_dir,\n\u001b[1;32m    481\u001b[0m     exclude_invalid_files\u001b[38;5;241m=\u001b[39mexclude_invalid_files,\n\u001b[1;32m    482\u001b[0m     selector_ignore_prefixes\u001b[38;5;241m=\u001b[39mselector_ignore_prefixes\n\u001b[1;32m    483\u001b[0m )\n\u001b[1;32m    484\u001b[0m factory \u001b[38;5;241m=\u001b[39m FileSystemDatasetFactory(fs, paths_or_selector, \u001b[38;5;28mformat\u001b[39m, options)\n",
      "File \u001b[0;32m~/micromamba/envs/trajcaching-env/lib/python3.9/site-packages/pyarrow/dataset.py:441\u001b[0m, in \u001b[0;36m_ensure_single_source\u001b[0;34m(path, filesystem)\u001b[0m\n\u001b[1;32m    439\u001b[0m     paths_or_selector \u001b[38;5;241m=\u001b[39m [path]\n\u001b[1;32m    440\u001b[0m \u001b[38;5;28;01melse\u001b[39;00m:\n\u001b[0;32m--> 441\u001b[0m     \u001b[38;5;28;01mraise\u001b[39;00m \u001b[38;5;167;01mFileNotFoundError\u001b[39;00m(path)\n\u001b[1;32m    443\u001b[0m \u001b[38;5;28;01mreturn\u001b[39;00m filesystem, paths_or_selector\n",
      "\u001b[0;31mFileNotFoundError\u001b[0m: /home/sunpeiyuan/deeproute/worknote/tmp/feature_bmk/pp_ci/23603589/5805274/features/v1-inputs.structure.past_agent_info.parquet"
     ]
    }
   ],
   "source": [
    "data_path = \"/home/sunpeiyuan/deeproute/worknote/tmp/feature_bmk/pp_ci/23603589/5805274/features/v1-inputs.structure.past_agent_info.parquet\"\n",
    "\n",
    "# 使用 pyarrow.parquet 直接读取 Parquet 文件为 pandas DataFrame\n",
    "data = read_pd(data_path)\n",
    "data.head()"
   ]
  },
  {
   "cell_type": "code",
   "execution_count": null,
   "id": "dd315b7b",
   "metadata": {},
   "outputs": [
    {
     "name": "stdout",
     "output_type": "stream",
     "text": [
      "<class 'bytes'>\n"
     ]
    }
   ],
   "source": [
    "test_data = data['inputs.structure.past_agent_info'][0]\n",
    "print(type(test_data))"
   ]
  },
  {
   "cell_type": "code",
   "execution_count": null,
   "id": "941d274f",
   "metadata": {},
   "outputs": [
    {
     "data": {
      "text/plain": [
       "((50, 17),\n",
       " array([[ 0.0000e+00,  0.0000e+00,  0.0000e+00,  0.0000e+00,  0.0000e+00,\n",
       "          0.0000e+00,  0.0000e+00,  0.0000e+00,  0.0000e+00,  0.0000e+00,\n",
       "          0.0000e+00,  0.0000e+00,  0.0000e+00,  0.0000e+00,  0.0000e+00,\n",
       "          0.0000e+00,  0.0000e+00],\n",
       "        [ 0.0000e+00,  0.0000e+00,  0.0000e+00,  0.0000e+00,  0.0000e+00,\n",
       "          0.0000e+00,  0.0000e+00,  0.0000e+00,  0.0000e+00,  0.0000e+00,\n",
       "          0.0000e+00,  0.0000e+00,  0.0000e+00,  0.0000e+00,  0.0000e+00,\n",
       "          0.0000e+00,  0.0000e+00],\n",
       "        [ 0.0000e+00,  0.0000e+00,  0.0000e+00,  0.0000e+00,  0.0000e+00,\n",
       "          0.0000e+00,  0.0000e+00,  0.0000e+00,  0.0000e+00,  0.0000e+00,\n",
       "          0.0000e+00,  0.0000e+00,  0.0000e+00,  0.0000e+00,  0.0000e+00,\n",
       "          0.0000e+00,  0.0000e+00],\n",
       "        [ 0.0000e+00,  0.0000e+00,  0.0000e+00,  0.0000e+00,  0.0000e+00,\n",
       "          0.0000e+00,  0.0000e+00,  0.0000e+00,  0.0000e+00,  0.0000e+00,\n",
       "          0.0000e+00,  0.0000e+00,  0.0000e+00,  0.0000e+00,  0.0000e+00,\n",
       "          0.0000e+00,  0.0000e+00],\n",
       "        [ 0.0000e+00,  0.0000e+00,  0.0000e+00,  0.0000e+00,  0.0000e+00,\n",
       "          0.0000e+00,  0.0000e+00,  0.0000e+00,  0.0000e+00,  0.0000e+00,\n",
       "          0.0000e+00,  0.0000e+00,  0.0000e+00,  0.0000e+00,  0.0000e+00,\n",
       "          0.0000e+00,  0.0000e+00],\n",
       "        [ 0.0000e+00,  0.0000e+00,  0.0000e+00,  0.0000e+00,  0.0000e+00,\n",
       "          0.0000e+00,  0.0000e+00,  0.0000e+00,  0.0000e+00,  0.0000e+00,\n",
       "          0.0000e+00,  0.0000e+00,  0.0000e+00,  0.0000e+00,  0.0000e+00,\n",
       "          0.0000e+00,  0.0000e+00],\n",
       "        [ 0.0000e+00,  0.0000e+00,  0.0000e+00,  0.0000e+00,  0.0000e+00,\n",
       "          0.0000e+00,  0.0000e+00,  0.0000e+00,  0.0000e+00,  0.0000e+00,\n",
       "          0.0000e+00,  0.0000e+00,  0.0000e+00,  0.0000e+00,  0.0000e+00,\n",
       "          0.0000e+00,  0.0000e+00],\n",
       "        [ 0.0000e+00,  0.0000e+00,  0.0000e+00,  0.0000e+00,  0.0000e+00,\n",
       "          0.0000e+00,  0.0000e+00,  0.0000e+00,  0.0000e+00,  0.0000e+00,\n",
       "          0.0000e+00,  0.0000e+00,  0.0000e+00,  0.0000e+00,  0.0000e+00,\n",
       "          0.0000e+00,  0.0000e+00],\n",
       "        [ 0.0000e+00,  0.0000e+00,  0.0000e+00,  0.0000e+00,  0.0000e+00,\n",
       "          0.0000e+00,  0.0000e+00,  0.0000e+00,  0.0000e+00,  0.0000e+00,\n",
       "          0.0000e+00,  0.0000e+00,  0.0000e+00,  0.0000e+00,  0.0000e+00,\n",
       "          0.0000e+00,  0.0000e+00],\n",
       "        [ 0.0000e+00,  0.0000e+00,  0.0000e+00,  0.0000e+00,  0.0000e+00,\n",
       "          0.0000e+00,  0.0000e+00,  0.0000e+00,  0.0000e+00,  0.0000e+00,\n",
       "          0.0000e+00,  0.0000e+00,  0.0000e+00,  0.0000e+00,  0.0000e+00,\n",
       "          0.0000e+00,  0.0000e+00],\n",
       "        [ 0.0000e+00,  0.0000e+00,  0.0000e+00,  0.0000e+00,  0.0000e+00,\n",
       "          0.0000e+00,  0.0000e+00,  0.0000e+00,  0.0000e+00,  0.0000e+00,\n",
       "          0.0000e+00,  0.0000e+00,  0.0000e+00,  0.0000e+00,  0.0000e+00,\n",
       "          0.0000e+00,  0.0000e+00],\n",
       "        [ 0.0000e+00,  0.0000e+00,  0.0000e+00,  0.0000e+00,  0.0000e+00,\n",
       "          0.0000e+00,  0.0000e+00,  0.0000e+00,  0.0000e+00,  0.0000e+00,\n",
       "          0.0000e+00,  0.0000e+00,  0.0000e+00,  0.0000e+00,  0.0000e+00,\n",
       "          0.0000e+00,  0.0000e+00],\n",
       "        [ 0.0000e+00,  0.0000e+00,  0.0000e+00,  0.0000e+00,  0.0000e+00,\n",
       "          0.0000e+00,  0.0000e+00,  0.0000e+00,  0.0000e+00,  0.0000e+00,\n",
       "          0.0000e+00,  0.0000e+00,  0.0000e+00,  0.0000e+00,  0.0000e+00,\n",
       "          0.0000e+00,  0.0000e+00],\n",
       "        [ 0.0000e+00,  0.0000e+00,  0.0000e+00,  0.0000e+00,  0.0000e+00,\n",
       "          0.0000e+00,  0.0000e+00,  0.0000e+00,  0.0000e+00,  0.0000e+00,\n",
       "          0.0000e+00,  0.0000e+00,  0.0000e+00,  0.0000e+00,  0.0000e+00,\n",
       "          0.0000e+00,  0.0000e+00],\n",
       "        [ 0.0000e+00,  0.0000e+00,  0.0000e+00,  0.0000e+00,  0.0000e+00,\n",
       "          0.0000e+00,  0.0000e+00,  0.0000e+00,  0.0000e+00,  0.0000e+00,\n",
       "          0.0000e+00,  0.0000e+00,  0.0000e+00,  0.0000e+00,  0.0000e+00,\n",
       "          0.0000e+00,  0.0000e+00],\n",
       "        [ 0.0000e+00,  0.0000e+00,  0.0000e+00,  0.0000e+00,  0.0000e+00,\n",
       "          0.0000e+00,  0.0000e+00,  0.0000e+00,  0.0000e+00,  0.0000e+00,\n",
       "          0.0000e+00,  0.0000e+00,  0.0000e+00,  0.0000e+00,  0.0000e+00,\n",
       "          0.0000e+00,  0.0000e+00],\n",
       "        [ 0.0000e+00,  0.0000e+00,  0.0000e+00,  0.0000e+00,  0.0000e+00,\n",
       "          0.0000e+00,  0.0000e+00,  0.0000e+00,  0.0000e+00,  0.0000e+00,\n",
       "          0.0000e+00,  0.0000e+00,  0.0000e+00,  0.0000e+00,  0.0000e+00,\n",
       "          0.0000e+00,  0.0000e+00],\n",
       "        [ 0.0000e+00,  0.0000e+00,  0.0000e+00,  0.0000e+00,  0.0000e+00,\n",
       "          0.0000e+00,  0.0000e+00,  0.0000e+00,  0.0000e+00,  0.0000e+00,\n",
       "          0.0000e+00,  0.0000e+00,  0.0000e+00,  0.0000e+00,  0.0000e+00,\n",
       "          0.0000e+00,  0.0000e+00],\n",
       "        [ 0.0000e+00,  0.0000e+00,  0.0000e+00,  0.0000e+00,  0.0000e+00,\n",
       "          0.0000e+00,  0.0000e+00,  0.0000e+00,  0.0000e+00,  0.0000e+00,\n",
       "          0.0000e+00,  0.0000e+00,  0.0000e+00,  0.0000e+00,  0.0000e+00,\n",
       "          0.0000e+00,  0.0000e+00],\n",
       "        [ 0.0000e+00,  0.0000e+00,  0.0000e+00,  0.0000e+00,  0.0000e+00,\n",
       "          0.0000e+00,  0.0000e+00,  0.0000e+00,  0.0000e+00,  0.0000e+00,\n",
       "          0.0000e+00,  0.0000e+00,  0.0000e+00,  0.0000e+00,  0.0000e+00,\n",
       "          0.0000e+00,  0.0000e+00],\n",
       "        [ 0.0000e+00,  0.0000e+00,  0.0000e+00,  0.0000e+00,  0.0000e+00,\n",
       "          0.0000e+00,  0.0000e+00,  0.0000e+00,  0.0000e+00,  0.0000e+00,\n",
       "          0.0000e+00,  0.0000e+00,  0.0000e+00,  0.0000e+00,  0.0000e+00,\n",
       "          0.0000e+00,  0.0000e+00],\n",
       "        [ 0.0000e+00,  0.0000e+00,  0.0000e+00,  0.0000e+00,  0.0000e+00,\n",
       "          0.0000e+00,  0.0000e+00,  0.0000e+00,  0.0000e+00,  0.0000e+00,\n",
       "          0.0000e+00,  0.0000e+00,  0.0000e+00,  0.0000e+00,  0.0000e+00,\n",
       "          0.0000e+00,  0.0000e+00],\n",
       "        [ 0.0000e+00,  0.0000e+00,  0.0000e+00,  0.0000e+00,  0.0000e+00,\n",
       "          0.0000e+00,  0.0000e+00,  0.0000e+00,  0.0000e+00,  0.0000e+00,\n",
       "          0.0000e+00,  0.0000e+00,  0.0000e+00,  0.0000e+00,  0.0000e+00,\n",
       "          0.0000e+00,  0.0000e+00],\n",
       "        [ 0.0000e+00,  0.0000e+00,  0.0000e+00,  0.0000e+00,  0.0000e+00,\n",
       "          0.0000e+00,  0.0000e+00,  0.0000e+00,  0.0000e+00,  0.0000e+00,\n",
       "          0.0000e+00,  0.0000e+00,  0.0000e+00,  0.0000e+00,  0.0000e+00,\n",
       "          0.0000e+00,  0.0000e+00],\n",
       "        [ 0.0000e+00,  0.0000e+00,  0.0000e+00,  0.0000e+00,  0.0000e+00,\n",
       "          0.0000e+00,  0.0000e+00,  0.0000e+00,  0.0000e+00,  0.0000e+00,\n",
       "          0.0000e+00,  0.0000e+00,  0.0000e+00,  0.0000e+00,  0.0000e+00,\n",
       "          0.0000e+00,  0.0000e+00],\n",
       "        [ 0.0000e+00,  0.0000e+00,  0.0000e+00,  0.0000e+00,  0.0000e+00,\n",
       "          0.0000e+00,  0.0000e+00,  0.0000e+00,  0.0000e+00,  0.0000e+00,\n",
       "          0.0000e+00,  0.0000e+00,  0.0000e+00,  0.0000e+00,  0.0000e+00,\n",
       "          0.0000e+00,  0.0000e+00],\n",
       "        [ 0.0000e+00,  0.0000e+00,  0.0000e+00,  0.0000e+00,  0.0000e+00,\n",
       "          0.0000e+00,  0.0000e+00,  0.0000e+00,  0.0000e+00,  0.0000e+00,\n",
       "          0.0000e+00,  0.0000e+00,  0.0000e+00,  0.0000e+00,  0.0000e+00,\n",
       "          0.0000e+00,  0.0000e+00],\n",
       "        [ 0.0000e+00,  0.0000e+00,  0.0000e+00,  0.0000e+00,  0.0000e+00,\n",
       "          0.0000e+00,  0.0000e+00,  0.0000e+00,  0.0000e+00,  0.0000e+00,\n",
       "          0.0000e+00,  0.0000e+00,  0.0000e+00,  0.0000e+00,  0.0000e+00,\n",
       "          0.0000e+00,  0.0000e+00],\n",
       "        [ 0.0000e+00,  0.0000e+00,  0.0000e+00,  0.0000e+00,  0.0000e+00,\n",
       "          0.0000e+00,  0.0000e+00,  0.0000e+00,  0.0000e+00,  0.0000e+00,\n",
       "          0.0000e+00,  0.0000e+00,  0.0000e+00,  0.0000e+00,  0.0000e+00,\n",
       "          0.0000e+00,  0.0000e+00],\n",
       "        [ 0.0000e+00,  0.0000e+00,  0.0000e+00,  0.0000e+00,  0.0000e+00,\n",
       "          0.0000e+00,  0.0000e+00,  0.0000e+00,  0.0000e+00,  0.0000e+00,\n",
       "          0.0000e+00,  0.0000e+00,  0.0000e+00,  0.0000e+00,  0.0000e+00,\n",
       "          0.0000e+00,  0.0000e+00],\n",
       "        [ 0.0000e+00,  0.0000e+00,  0.0000e+00,  0.0000e+00,  0.0000e+00,\n",
       "          0.0000e+00,  0.0000e+00,  0.0000e+00,  0.0000e+00,  0.0000e+00,\n",
       "          0.0000e+00,  0.0000e+00,  0.0000e+00,  0.0000e+00,  0.0000e+00,\n",
       "          0.0000e+00,  0.0000e+00],\n",
       "        [ 0.0000e+00,  0.0000e+00,  0.0000e+00,  0.0000e+00,  0.0000e+00,\n",
       "          0.0000e+00,  0.0000e+00,  0.0000e+00,  0.0000e+00,  0.0000e+00,\n",
       "          0.0000e+00,  0.0000e+00,  0.0000e+00,  0.0000e+00,  0.0000e+00,\n",
       "          0.0000e+00,  0.0000e+00],\n",
       "        [ 0.0000e+00,  0.0000e+00,  0.0000e+00,  0.0000e+00,  0.0000e+00,\n",
       "          0.0000e+00,  0.0000e+00,  0.0000e+00,  0.0000e+00,  0.0000e+00,\n",
       "          0.0000e+00,  0.0000e+00,  0.0000e+00,  0.0000e+00,  0.0000e+00,\n",
       "          0.0000e+00,  0.0000e+00],\n",
       "        [ 0.0000e+00,  0.0000e+00,  0.0000e+00,  0.0000e+00,  0.0000e+00,\n",
       "          0.0000e+00,  0.0000e+00,  0.0000e+00,  0.0000e+00,  0.0000e+00,\n",
       "          0.0000e+00,  0.0000e+00,  0.0000e+00,  0.0000e+00,  0.0000e+00,\n",
       "          0.0000e+00,  0.0000e+00],\n",
       "        [ 0.0000e+00,  0.0000e+00,  0.0000e+00,  0.0000e+00,  0.0000e+00,\n",
       "          0.0000e+00,  0.0000e+00,  0.0000e+00,  0.0000e+00,  0.0000e+00,\n",
       "          0.0000e+00,  0.0000e+00,  0.0000e+00,  0.0000e+00,  0.0000e+00,\n",
       "          0.0000e+00,  0.0000e+00],\n",
       "        [ 0.0000e+00,  0.0000e+00,  0.0000e+00,  0.0000e+00,  0.0000e+00,\n",
       "          0.0000e+00,  0.0000e+00,  0.0000e+00,  0.0000e+00,  0.0000e+00,\n",
       "          0.0000e+00,  0.0000e+00,  0.0000e+00,  0.0000e+00,  0.0000e+00,\n",
       "          0.0000e+00,  0.0000e+00],\n",
       "        [ 0.0000e+00,  0.0000e+00,  0.0000e+00,  0.0000e+00,  0.0000e+00,\n",
       "          0.0000e+00,  0.0000e+00,  0.0000e+00,  0.0000e+00,  0.0000e+00,\n",
       "          0.0000e+00,  0.0000e+00,  0.0000e+00,  0.0000e+00,  0.0000e+00,\n",
       "          0.0000e+00,  0.0000e+00],\n",
       "        [ 0.0000e+00,  0.0000e+00,  0.0000e+00,  0.0000e+00,  0.0000e+00,\n",
       "          0.0000e+00,  0.0000e+00,  0.0000e+00,  0.0000e+00,  0.0000e+00,\n",
       "          0.0000e+00,  0.0000e+00,  0.0000e+00,  0.0000e+00,  0.0000e+00,\n",
       "          0.0000e+00,  0.0000e+00],\n",
       "        [ 0.0000e+00,  0.0000e+00,  0.0000e+00,  0.0000e+00,  0.0000e+00,\n",
       "          0.0000e+00,  0.0000e+00,  0.0000e+00,  0.0000e+00,  0.0000e+00,\n",
       "          0.0000e+00,  0.0000e+00,  0.0000e+00,  0.0000e+00,  0.0000e+00,\n",
       "          0.0000e+00,  0.0000e+00],\n",
       "        [ 0.0000e+00,  0.0000e+00,  0.0000e+00,  0.0000e+00,  0.0000e+00,\n",
       "          0.0000e+00,  0.0000e+00,  0.0000e+00,  0.0000e+00,  0.0000e+00,\n",
       "          0.0000e+00,  0.0000e+00,  0.0000e+00,  0.0000e+00,  0.0000e+00,\n",
       "          0.0000e+00,  0.0000e+00],\n",
       "        [ 0.0000e+00,  0.0000e+00,  0.0000e+00,  0.0000e+00,  0.0000e+00,\n",
       "          0.0000e+00,  0.0000e+00,  0.0000e+00,  0.0000e+00,  0.0000e+00,\n",
       "          0.0000e+00,  0.0000e+00,  0.0000e+00,  0.0000e+00,  0.0000e+00,\n",
       "          0.0000e+00,  0.0000e+00],\n",
       "        [ 0.0000e+00,  0.0000e+00,  0.0000e+00,  0.0000e+00,  0.0000e+00,\n",
       "          0.0000e+00,  0.0000e+00,  0.0000e+00,  0.0000e+00,  0.0000e+00,\n",
       "          0.0000e+00,  0.0000e+00,  0.0000e+00,  0.0000e+00,  0.0000e+00,\n",
       "          0.0000e+00,  0.0000e+00],\n",
       "        [ 0.0000e+00,  0.0000e+00,  0.0000e+00,  0.0000e+00,  0.0000e+00,\n",
       "          0.0000e+00,  0.0000e+00,  0.0000e+00,  0.0000e+00,  0.0000e+00,\n",
       "          0.0000e+00,  0.0000e+00,  0.0000e+00,  0.0000e+00,  0.0000e+00,\n",
       "          0.0000e+00,  0.0000e+00],\n",
       "        [ 9.9000e+01,  7.0000e+01, -2.7466e-02, -1.1617e+01, -1.2169e-03,\n",
       "         -6.3171e-03,  1.7766e+01,  9.2102e-02,  4.0723e-01,  5.0000e+00,\n",
       "          3.0000e+00,  5.0000e+00,  2.8706e-04,  0.0000e+00,  0.0000e+00,\n",
       "         -2.8027e+00,  1.0000e+00],\n",
       "        [ 9.9000e+01,  7.5000e+01, -2.9907e-02, -9.8438e+00, -1.3046e-03,\n",
       "         -1.1398e-02,  1.7750e+01,  1.0303e-01,  2.4573e-01,  5.0000e+00,\n",
       "          3.0000e+00,  5.0000e+00,  4.3058e-04,  0.0000e+00,  0.0000e+00,\n",
       "         -2.8027e+00,  1.0000e+00],\n",
       "        [ 9.9000e+01,  7.9000e+01, -3.3447e-02, -8.0703e+00, -9.3508e-04,\n",
       "         -1.8494e-02,  1.7734e+01,  5.1086e-02, -4.6501e-03,  5.0000e+00,\n",
       "          3.0000e+00,  5.0000e+00,  5.4216e-04,  0.0000e+00,  0.0000e+00,\n",
       "         -2.8027e+00,  1.0000e+00],\n",
       "        [ 9.9000e+01,  8.4000e+01, -3.4760e-02, -6.3008e+00, -5.2786e-04,\n",
       "         -8.8348e-03,  1.7719e+01,  1.0574e-02, -1.1243e-01,  5.0000e+00,\n",
       "          3.0000e+00,  5.0000e+00,  5.7411e-04,  0.0000e+00,  0.0000e+00,\n",
       "         -2.8027e+00,  1.0000e+00],\n",
       "        [ 9.9000e+01,  8.8000e+01, -3.3844e-02, -4.5352e+00, -2.0039e-04,\n",
       "          5.2681e-03,  1.7688e+01,  3.3936e-02, -2.0190e-01,  5.0000e+00,\n",
       "          3.0000e+00,  5.0000e+00,  5.7411e-04,  0.0000e+00,  0.0000e+00,\n",
       "         -2.8027e+00,  1.0000e+00],\n",
       "        [ 9.9000e+01,  9.3000e+01, -3.0121e-02, -2.7695e+00, -7.5579e-05,\n",
       "          2.1225e-02,  1.7672e+01,  7.3120e-02, -2.3254e-01,  5.0000e+00,\n",
       "          3.0000e+00,  5.0000e+00,  5.7411e-04,  0.0000e+00,  0.0000e+00,\n",
       "         -2.8027e+00,  1.0000e+00],\n",
       "        [ 9.9000e+01,  9.7000e+01, -2.8320e-02, -1.0059e+00, -8.6427e-05,\n",
       "          2.7817e-02,  1.7625e+01,  1.1523e-01, -2.8662e-01,  5.0000e+00,\n",
       "          3.0000e+00,  5.0000e+00,  7.1764e-04,  0.0000e+00,  0.0000e+00,\n",
       "         -2.8027e+00,  1.0000e+00]], dtype=float16))"
      ]
     },
     "execution_count": 12,
     "metadata": {},
     "output_type": "execute_result"
    }
   ],
   "source": [
    "final_data = AbstractModelFeature.unmarshal(test_data)\n",
    "final_data.data[0].shape, final_data.data[0]"
   ]
  },
  {
   "cell_type": "markdown",
   "id": "1890e4a2",
   "metadata": {},
   "source": [
    "#### targets.structure.agents_trajectory_trace_long"
   ]
  },
  {
   "cell_type": "code",
   "execution_count": 11,
   "id": "5c2b6aa9",
   "metadata": {},
   "outputs": [
    {
     "data": {
      "text/plain": [
       "<trajcaching.pd_node.features.base_feature.MapNumpyFeature at 0x7f82fc191e50>"
      ]
     },
     "execution_count": 11,
     "metadata": {},
     "output_type": "execute_result"
    }
   ],
   "source": [
    "import pickle\n",
    "\n",
    "record_path = '/home/sunpeiyuan/deeproute/tmp/feature_bmk/record/pp_ci/23603589/5805274/1743495543000000.pkl'\n",
    "with open(record_path, 'rb') as f:\n",
    "    data = pickle.load(f)\n",
    "    data.data.unzip()\n",
    "\n",
    "record_data = data.data\n",
    "type(record_data)\n",
    "\n",
    "record_data.targets.structure.agents_trajectory_trace_v8"
   ]
  },
  {
   "cell_type": "markdown",
   "id": "e762f611",
   "metadata": {},
   "source": [
    "### feature_map特征"
   ]
  },
  {
   "cell_type": "code",
   "execution_count": 12,
   "id": "03807cb8",
   "metadata": {},
   "outputs": [
    {
     "data": {
      "text/plain": [
       "{'raw_boundary_crosswalk_confidence': array([[[[0, 0, 0, ..., 0, 0, 0],\n",
       "          [0, 0, 0, ..., 0, 0, 0],\n",
       "          [0, 0, 0, ..., 0, 0, 0],\n",
       "          ...,\n",
       "          [0, 0, 0, ..., 0, 0, 0],\n",
       "          [0, 0, 0, ..., 0, 0, 0],\n",
       "          [0, 0, 0, ..., 0, 0, 0]]]], dtype=int8),\n",
       " 'raw_stopline_curb_confidence': array([[[[0, 0, 0, ..., 0, 0, 0],\n",
       "          [0, 0, 0, ..., 0, 0, 0],\n",
       "          [0, 0, 0, ..., 0, 0, 0],\n",
       "          ...,\n",
       "          [0, 0, 0, ..., 0, 0, 0],\n",
       "          [0, 0, 0, ..., 0, 0, 0],\n",
       "          [0, 0, 0, ..., 0, 0, 0]]]], dtype=int8),\n",
       " 'raw_stopline_confidence': array([[[[0, 0, 0, ..., 0, 0, 0],\n",
       "          [0, 0, 0, ..., 0, 0, 0],\n",
       "          [0, 0, 0, ..., 0, 0, 0],\n",
       "          ...,\n",
       "          [0, 0, 0, ..., 0, 0, 0],\n",
       "          [0, 0, 0, ..., 0, 0, 0],\n",
       "          [0, 0, 0, ..., 0, 0, 0]]]], dtype=int8),\n",
       " 'raw_centerline_confidence': array([[[[0, 0, 0, ..., 0, 0, 0],\n",
       "          [0, 0, 0, ..., 0, 0, 0],\n",
       "          [0, 0, 0, ..., 0, 0, 0],\n",
       "          ...,\n",
       "          [0, 0, 0, ..., 0, 0, 0],\n",
       "          [0, 0, 0, ..., 0, 0, 0],\n",
       "          [0, 0, 0, ..., 0, 0, 0]]]], dtype=int8),\n",
       " 'raw_roadmask_confidence': array([[[[32, 32, 32, ..., 32, 32, 31],\n",
       "          [32, 32, 32, ..., 32, 32, 32],\n",
       "          [32, 32, 32, ..., 32, 32, 32],\n",
       "          ...,\n",
       "          [32, 32, 32, ..., 31, 31, 32],\n",
       "          [32, 32, 32, ..., 32, 32, 32],\n",
       "          [32, 32, 32, ..., 32, 32, 32]],\n",
       " \n",
       "         [[ 0,  0,  0, ...,  0,  0,  0],\n",
       "          [ 0,  0,  0, ...,  0,  0,  0],\n",
       "          [ 0,  0,  0, ...,  0,  0,  0],\n",
       "          ...,\n",
       "          [ 0,  0,  0, ...,  0,  0,  0],\n",
       "          [ 0,  0,  0, ...,  0,  0,  0],\n",
       "          [ 0,  0,  0, ...,  0,  0,  0]]]], dtype=int8),\n",
       " 'raw_roadmask_direction': array([[[[  51,   42,   35, ..., -100, -100, -100],\n",
       "          [  36,   31,   28, ..., -100, -100, -100],\n",
       "          [  42,   69,   78, ..., -100, -100, -100],\n",
       "          ...,\n",
       "          [  79,   66,   78, ..., -100, -100, -100],\n",
       "          [  95,   98,   94, ..., -100, -100, -100],\n",
       "          [ -85,  -10,   42, ..., -100, -100, -100]],\n",
       " \n",
       "         [[   0,    0,    0, ...,    0,    0,    0],\n",
       "          [   0,    0,    0, ...,    0,    0,    0],\n",
       "          [   0,    0,    0, ...,    0,    0,    0],\n",
       "          ...,\n",
       "          [   0,    0,    0, ...,    0,    0,    0],\n",
       "          [   0,    0,    0, ...,    0,    0,    0],\n",
       "          [   0,    0,    0, ...,    0,    0,    0]],\n",
       " \n",
       "         [[  29,   29,   30, ...,   30,   30,   30],\n",
       "          [  29,   30,   30, ...,   31,   31,   31],\n",
       "          [  29,   30,   30, ...,   31,   31,   31],\n",
       "          ...,\n",
       "          [  29,   30,   30, ...,   31,   31,   30],\n",
       "          [  29,   30,   30, ...,   31,   31,   30],\n",
       "          [  29,   30,   30, ...,   30,   30,   29]],\n",
       " \n",
       "         ...,\n",
       " \n",
       "         [[   2,    2,   -8, ...,    4,    4,   -1],\n",
       "          [  -1,   -1,   -9, ...,   13,    5,    0],\n",
       "          [   0,    0,   -6, ...,    4,    3,   -1],\n",
       "          ...,\n",
       "          [  -1,    0,   -3, ...,  -11,    0,    0],\n",
       "          [   0,    1,    0, ...,   -9,    2,    4],\n",
       "          [  -4,    0,   -3, ...,    1,    5,    4]],\n",
       " \n",
       "         [[   0,    0,    0, ...,    0,    0,    0],\n",
       "          [   0,    0,    0, ...,    0,    0,    0],\n",
       "          [   0,    0,    0, ...,    0,    0,    0],\n",
       "          ...,\n",
       "          [   0,    0,    0, ...,    0,    0,    0],\n",
       "          [   0,    0,    0, ...,    0,    0,    0],\n",
       "          [   0,    0,    0, ...,    0,    0,    0]],\n",
       " \n",
       "         [[  32,   32,   32, ...,   32,   32,   32],\n",
       "          [  32,   32,   32, ...,   32,   32,   32],\n",
       "          [  32,   32,   32, ...,   32,   32,   32],\n",
       "          ...,\n",
       "          [  32,   32,   32, ...,   32,   32,   32],\n",
       "          [  32,   32,   32, ...,   32,   32,   32],\n",
       "          [  32,   32,   32, ...,   32,   32,   32]]]], dtype=int8),\n",
       " 'raw_refline_instance_passable_lane_mask': array([[[[0, 0, 0, ..., 0, 0, 0],\n",
       "          [0, 0, 0, ..., 0, 0, 0],\n",
       "          [0, 0, 0, ..., 0, 0, 0],\n",
       "          ...,\n",
       "          [0, 0, 0, ..., 0, 0, 0],\n",
       "          [0, 0, 0, ..., 0, 0, 0],\n",
       "          [0, 0, 0, ..., 0, 0, 0]]]], dtype=int8),\n",
       " 'raw_refline_instance_passable_road_mask': array([[[[0, 0, 0, ..., 0, 0, 0],\n",
       "          [0, 0, 0, ..., 0, 0, 0],\n",
       "          [0, 0, 0, ..., 0, 0, 0],\n",
       "          ...,\n",
       "          [0, 0, 0, ..., 0, 0, 0],\n",
       "          [0, 0, 0, ..., 0, 0, 0],\n",
       "          [0, 0, 0, ..., 0, 0, 0]]]], dtype=int8),\n",
       " 'raw_invalidlane': array([[[[0, 0, 0, ..., 0, 0, 0],\n",
       "          [0, 0, 0, ..., 0, 0, 0],\n",
       "          [0, 0, 0, ..., 0, 0, 0],\n",
       "          ...,\n",
       "          [0, 0, 0, ..., 0, 0, 0],\n",
       "          [0, 0, 0, ..., 0, 0, 0],\n",
       "          [0, 0, 0, ..., 0, 0, 0]]]], dtype=int8),\n",
       " 'raw_boundary_passable': array([[[[ 8,  7,  7, ...,  1,  0,  0],\n",
       "          [ 6,  6,  6, ...,  0,  0,  0],\n",
       "          [ 5,  5,  5, ...,  0,  0,  0],\n",
       "          ...,\n",
       "          [ 7,  7,  7, ...,  8,  2,  1],\n",
       "          [ 7,  7,  7, ..., 15, 12, 15],\n",
       "          [11,  9,  9, ..., 15, 14, 15]],\n",
       " \n",
       "         [[23, 24, 23, ..., 30, 31, 31],\n",
       "          [25, 25, 25, ..., 31, 31, 31],\n",
       "          [26, 26, 26, ..., 31, 31, 31],\n",
       "          ...,\n",
       "          [24, 24, 24, ..., 23, 29, 30],\n",
       "          [24, 24, 24, ..., 15, 19, 15],\n",
       "          [20, 22, 22, ..., 15, 17, 15]]]], dtype=int8)}"
      ]
     },
     "execution_count": 12,
     "metadata": {},
     "output_type": "execute_result"
    }
   ],
   "source": [
    "import pickle\n",
    "\n",
    "record_path = '/home/sunpeiyuan/deeproute/tmp/feature_bmk/record/pp_ci/23603589/5805274/1743495543000000.pkl'\n",
    "with open(record_path, 'rb') as f:\n",
    "    data = pickle.load(f)\n",
    "    data.data.unzip()\n",
    "\n",
    "record_data = data.data\n",
    "type(record_data)\n",
    "\n",
    "record_data.inputs.feature_map_v5.data"
   ]
  },
  {
   "cell_type": "markdown",
   "id": "15878080",
   "metadata": {},
   "source": [
    "### Ocuupancy特征"
   ]
  },
  {
   "cell_type": "code",
   "execution_count": 13,
   "id": "5696f47f",
   "metadata": {},
   "outputs": [
    {
     "data": {
      "text/plain": [
       "trajcaching.abstract_record.AttrFeatureData"
      ]
     },
     "execution_count": 13,
     "metadata": {},
     "output_type": "execute_result"
    }
   ],
   "source": [
    "import pickle\n",
    "\n",
    "record_path = '/home/sunpeiyuan/deeproute/tmp/feature_bmk/record/pp_ci/23603589/5805274/1743495543000000.pkl'\n",
    "with open(record_path, 'rb') as f:\n",
    "    data = pickle.load(f)\n",
    "    data.data.unzip()\n",
    "\n",
    "record_data = data.data\n",
    "type(record_data)"
   ]
  },
  {
   "cell_type": "code",
   "execution_count": 14,
   "id": "17691d40",
   "metadata": {},
   "outputs": [
    {
     "data": {
      "text/plain": [
       "<trajcaching.abstract_record.AttrFeatureData at 0x7f82e4758640>"
      ]
     },
     "execution_count": 14,
     "metadata": {},
     "output_type": "execute_result"
    }
   ],
   "source": [
    "record_data.inputs.occupancy"
   ]
  },
  {
   "cell_type": "markdown",
   "id": "f7ef7dd3",
   "metadata": {},
   "source": [
    "### proto特征"
   ]
  },
  {
   "cell_type": "code",
   "execution_count": 15,
   "id": "c177492c",
   "metadata": {},
   "outputs": [
    {
     "data": {
      "text/plain": [
       "MockAgentSnapshot(timestamp_us=-1, position=None, theta=-1, velocity=None, acceleration=None, length=-1, width=-1, height=-1, is_adc=True, has_data=False, feature_map=None, driving_mode=-1)"
      ]
     },
     "execution_count": 15,
     "metadata": {},
     "output_type": "execute_result"
    }
   ],
   "source": [
    "record_data.inputs.proto.adc_info.data[0]"
   ]
  },
  {
   "cell_type": "markdown",
   "id": "699eca36",
   "metadata": {},
   "source": [
    "## 抽象类"
   ]
  },
  {
   "cell_type": "code",
   "execution_count": 16,
   "id": "0efa4e60",
   "metadata": {},
   "outputs": [],
   "source": [
    "from abc import abstractmethod\n",
    "\n",
    "class AbstractPdGraph:\n",
    "\n",
    "    @property\n",
    "    @abstractmethod\n",
    "    def name(self) -> None:\n",
    "        \"\"\"name\"\"\"\n",
    "\n",
    "    @abstractmethod\n",
    "    def run(self,) -> None:\n",
    "        \"\"\"run ppl\"\"\"\n",
    "\n"
   ]
  },
  {
   "cell_type": "code",
   "execution_count": 17,
   "id": "2877b4a0",
   "metadata": {},
   "outputs": [
    {
     "name": "stdout",
     "output_type": "stream",
     "text": [
      "fun in SubFoo\n"
     ]
    }
   ],
   "source": [
    "from abc import ABC, abstractmethod\n",
    "\n",
    "\n",
    "class Foo(ABC):\n",
    "    @abstractmethod\n",
    "    def fun(self):\n",
    "        '''please Implemente in subclass'''\n",
    "\n",
    "\n",
    "class SubFoo(Foo):\n",
    "    def fun(self):\n",
    "        print('fun in SubFoo')\n",
    "\n",
    "a = SubFoo()\n",
    "a.fun()\n"
   ]
  },
  {
   "cell_type": "code",
   "execution_count": 18,
   "id": "debc125c",
   "metadata": {},
   "outputs": [
    {
     "name": "stdout",
     "output_type": "stream",
     "text": [
      "Hello from my_class_method\n"
     ]
    }
   ],
   "source": [
    "def my_class_method(self):\n",
    "    print(\"Hello from my_class_method\")\n",
    " \n",
    "MyClass = type('MyClass', (object,), {'my_method': my_class_method})\n",
    " \n",
    "instance = MyClass()\n",
    "instance.my_method()  # 输出: Hello from my_class_method"
   ]
  },
  {
   "cell_type": "code",
   "execution_count": 19,
   "id": "ee614d78",
   "metadata": {},
   "outputs": [
    {
     "name": "stdout",
     "output_type": "stream",
     "text": [
      "/home/sunpeiyuan/deeproute/datamining/trajcaching/trajcaching\n",
      "['tools', 'standalone', 'tests', 'fastapi', '__pycache__', 'pd_graph', 'config', 'ext', 'cluster', 'common', 'pd_node', 'data']\n",
      "['data_config_env.py', 'abstract_record.py', 'abstract_feature.py', 'abstract_feature_node.py', 'bmk_env.py', 'abstract_pd_graph.py', 'abstract_pd_func_node.py', 'abstract_pd_node.py', '__init__.py', 'env.py', 'pd_graph_config.py', 'abstract_record_mining.py']\n"
     ]
    }
   ],
   "source": [
    "import os\n",
    "\n",
    "directory = '/home/sunpeiyuan/deeproute/datamining/trajcaching/trajcaching'\n",
    "for root, _, files in os.walk(directory):\n",
    "    print(root), print(_), print(files)\n",
    "    break"
   ]
  },
  {
   "cell_type": "markdown",
   "id": "64fe32fe",
   "metadata": {},
   "source": [
    "## 核心代码理解"
   ]
  },
  {
   "cell_type": "markdown",
   "id": "65c48b77",
   "metadata": {},
   "source": [
    "### pd_graph_config"
   ]
  },
  {
   "cell_type": "code",
   "execution_count": 20,
   "id": "f0d216bd",
   "metadata": {},
   "outputs": [
    {
     "name": "stdout",
     "output_type": "stream",
     "text": [
      "PYTHONPATH = /mnt/csi-data-aly/shared/shenzhen/ppsim/trajcaching_v3/debs/proto:/mnt/csi-data-aly/shared/shenzhen/ppsim/trajcaching_v3/debs/scenariohouse:/home/sunpeiyuan/deeproute/datamining/trajcaching\n",
      "sys.path =\n",
      "   /home/sunpeiyuan/deeproute/datamining/trajcaching\n",
      "   /mnt/csi-data-aly/shared/shenzhen/ppsim/trajcaching_v3/debs/scenariohouse\n",
      "   /mnt/csi-data-aly/shared/shenzhen/ppsim/trajcaching_v3/debs/proto\n",
      "   /home/sunpeiyuan/micromamba/envs/trajcaching-env/lib/python39.zip\n",
      "   /home/sunpeiyuan/micromamba/envs/trajcaching-env/lib/python3.9\n",
      "   /home/sunpeiyuan/micromamba/envs/trajcaching-env/lib/python3.9/lib-dynload\n",
      "   \n",
      "   /home/sunpeiyuan/micromamba/envs/trajcaching-env/lib/python3.9/site-packages\n"
     ]
    }
   ],
   "source": [
    "import sys\n",
    "import os\n",
    "print(\"PYTHONPATH =\", os.environ.get(\"PYTHONPATH\"))\n",
    "print(\"sys.path =\")\n",
    "for p in sys.path:\n",
    "    print(\"  \", p)\n"
   ]
  },
  {
   "cell_type": "code",
   "execution_count": 21,
   "id": "c3ecfaaf",
   "metadata": {},
   "outputs": [
    {
     "name": "stdout",
     "output_type": "stream",
     "text": [
      "import rosbag failed, dpbag info local bag won't work\n",
      "total data_configs size: 1\n",
      "\n",
      "===== GraphConfig 属性 =====\n",
      "graph_name: LayerPdGraphPool\n",
      "stage: [[{'name': 'PdDpbagExtractorNode'}], [{'name': 'DownsampleNode', 'downsample_interval': 10}], [{'name': 'InputsProtoMapRasmapPlusNode'}, {'name': 'InputsProtoRasmapPlusNode'}, {'name': 'InputsProtoTrafficLightNode'}, {'name': 'InputsFeatureMapV5Node'}, {'name': 'InputsOccupancyEnvNode'}, {'name': 'InputsOccupancyPastAgentNode'}, {'name': 'TargetsStructureFutureAgentNode'}, {'name': 'TargetsStructureFutureAgentV2Node'}, {'name': 'TargetsStructureFutureCarStatusNode'}, {'name': 'InputsStructurePastAgentNode'}, {'name': 'InputsStructurePastAgentV2Node'}, {'name': 'InputsStructurePastAgentLightNode'}, {'name': 'InputsRawDataCamera1Node'}, {'name': 'InputsRawDataC1SeqNode'}, {'name': 'InputsOccupancySDMapNode'}, {'name': 'InputsOccupancySDMapV2Node'}, {'name': 'InputsProtoAgentMapNode'}, {'name': 'TargetsStructureAgentsTrajectoryTraceV8Node'}, {'name': 'InputsProtoMapFusionSdMapNode'}, {'name': 'InputsProtoAMapFusionSdMapNode'}, {'name': 'InputsProtoEditPlanningNode'}, {'name': 'InputsTargetsStructureCarInfoNode'}, {'name': 'TargetsStructureAgentsTrajectoryTraceLongNode'}, {'name': 'TargetsStructureAgentsTrajectoryTraceRefineNode'}, {'name': 'TargetsStructureAgentsTrajectoryTraceRefineLongNode'}], [{'name': 'FeatureToRecordNode', 'required_features': ['inputs.proto.rasmapplus', 'inputs.occupancy.anchor_env_v2', 'inputs.occupancy.past_agent', 'inputs.occupancy.past_adc', 'inputs.occupancy.past_agent_map', 'inputs.occupancy.past_trajectory', 'inputs.occupancy.past_trajectory_img', 'inputs.proto.adc_info', 'inputs.structure.past_agent_info', 'inputs.structure.past_agent_info_v2', 'targets.structure.future_agent_info', 'targets.structure.future_agent_info_v2', 'targets.structure.future_ego_info'], 'optional_features': ['inputs.feature_map_v5', 'inputs.proto.agent_map_info', 'inputs.proto.traffic_light_response', 'inputs.proto.map_rasmapplus', 'inputs.proto.fusion_sdmap', 'inputs.occupancy.sdmap_routing_img', 'inputs.occupancy.sdmap_horizon_map_img_v2', 'inputs.occupancy.sdmap_routing_img_v2', 'inputs.occupancy.sdmap_horizon_map_img_v4', 'targets.structure.agents_trajectory_trace_v8', 'inputs.structure.past_car_info', 'targets.structure.future_car_info', 'inputs.proto.fusion_sdmap', 'inputs.proto.fusion_sdmap_amap', 'inputs.raw_data.camera_1', 'inputs.raw_data.c1_seq_v1', 'targets.structure.agents_trajectory_trace_long\"', 'targets.structure.agents_trajectory_trace_refine', 'targets.structure.agents_trajectory_trace_refine_long']}]]\n",
      "config: {'usage': 'dump_feature_record'}\n",
      "data_configs 个数: 1\n",
      "\n",
      "===== 第一个 DataConfig 结构 =====\n",
      "trip_id: 23603589\n",
      "name: 5805274\n",
      "input_type: perception_backfill\n",
      "input_dir: /pp_ci\n",
      "save_dir: /tmp/feature_bmk\n",
      "record_save_dir: /tmp/feature_bmk/record\n",
      "image_tag: pp_ci\n",
      "extra_infos: {}\n",
      "data_dir: /tmp/feature_bmk/pp_ci/23603589/5805274\n",
      "['__annotations__', '__class__', '__dataclass_fields__', '__dataclass_params__', '__delattr__', '__dict__', '__dir__', '__doc__', '__eq__', '__format__', '__ge__', '__getattribute__', '__gt__', '__hash__', '__init__', '__init_subclass__', '__le__', '__lt__', '__module__', '__ne__', '__new__', '__reduce__', '__reduce_ex__', '__repr__', '__setattr__', '__sizeof__', '__str__', '__subclasshook__', '__weakref__', 'config', 'data_configs', 'graph_name', 'parse', 'stage']\n"
     ]
    }
   ],
   "source": [
    "import yaml\n",
    "from trajcaching.pd_graph_config import GraphConfig, DataConfig\n",
    "\n",
    "yaml_path = \"./trajcaching/cluster/config/feature/graph_feature_template.yaml\"\n",
    "with open(yaml_path, \"r\") as f:\n",
    "    config_yaml = yaml.safe_load(f)\n",
    "\n",
    "\n",
    "# 解析GraphConfig\n",
    "graph_config = GraphConfig.parse(config_yaml)\n",
    "\n",
    "# 打印 GraphConfig 结构\n",
    "print(\"\\n===== GraphConfig 属性 =====\")\n",
    "print(f\"graph_name: {graph_config.graph_name}\")\n",
    "print(f\"stage: {graph_config.stage}\")\n",
    "print(f\"config: {graph_config.config}\")\n",
    "print(f\"data_configs 个数: {len(graph_config.data_configs)}\")\n",
    "\n",
    "# 打印其中一个 DataConfig 内容（以第一个为例）\n",
    "print(\"\\n===== 第一个 DataConfig 结构 =====\")\n",
    "data_config = graph_config.data_configs[0]\n",
    "print(f\"trip_id: {data_config.trip_id}\")\n",
    "print(f\"name: {data_config.name}\")\n",
    "print(f\"input_type: {data_config.input_type}\")\n",
    "print(f\"input_dir: {data_config.input_dir}\")\n",
    "print(f\"save_dir: {data_config.save_dir}\")\n",
    "print(f\"record_save_dir: {data_config.record_save_dir}\")\n",
    "print(f\"image_tag: {data_config.image_tag}\")\n",
    "print(f\"extra_infos: {data_config.extra_infos}\")\n",
    "print(f\"data_dir: {data_config.data_dir}\")\n",
    "\n",
    "print(dir(graph_config))"
   ]
  },
  {
   "cell_type": "code",
   "execution_count": 22,
   "id": "4b07627b",
   "metadata": {},
   "outputs": [
    {
     "name": "stdout",
     "output_type": "stream",
     "text": [
      "LayerPdGraphPool\n",
      "[DataConfigs(unique_id='', version='v1', input_type='perception_backfill', input_dir='/pp_ci', name='5805274', save_dir='/tmp/feature_bmk', trip_id='23603589', image_tag='pp_ci', backfill_support_version=False, backfill_version='', single_frame_output_dir='', trip_slice_bag_list=[], trip_slice_start_timestamp_us=None, trip_slice_end_timestamp_us=None, enable_dynamic_downsample=False, dynamic_downsample_drtag_key_values=[], dynamic_downsample_only_drtag_bag_range=False, keep_dataframe=True, handled_ok=True, integration_mode=False, record_save_dir='/tmp/feature_bmk/record', downsample_timestamp_lists=[], extra_infos={}, downsample_interval_timestamp_us=100000, for_record=False, prior_save_dir='', prior_features=[], feature_dir_name='features', job_id=None, logs=[], start_time=None, frame_pd_size_MB=0, agent_pd_size_MB=0, record_size_MB=0, is_valid=True, agent_pd=None, frame_pd=None, all_frame_pd=None, all_agent_pd=None, frame_dict_buffer=[], agent_dict_buffer=[], trip_case_ids={23603589: [5805274]}, category_trip_case_ids={}, data_pickle_path='')]\n",
      "{'usage': 'dump_feature_record'}\n",
      "[[{'name': 'PdDpbagExtractorNode'}], [{'name': 'DownsampleNode', 'downsample_interval': 10}], [{'name': 'InputsProtoMapRasmapPlusNode'}, {'name': 'InputsProtoRasmapPlusNode'}, {'name': 'InputsProtoTrafficLightNode'}, {'name': 'InputsFeatureMapV5Node'}, {'name': 'InputsOccupancyEnvNode'}, {'name': 'InputsOccupancyPastAgentNode'}, {'name': 'TargetsStructureFutureAgentNode'}, {'name': 'TargetsStructureFutureAgentV2Node'}, {'name': 'TargetsStructureFutureCarStatusNode'}, {'name': 'InputsStructurePastAgentNode'}, {'name': 'InputsStructurePastAgentV2Node'}, {'name': 'InputsStructurePastAgentLightNode'}, {'name': 'InputsRawDataCamera1Node'}, {'name': 'InputsRawDataC1SeqNode'}, {'name': 'InputsOccupancySDMapNode'}, {'name': 'InputsOccupancySDMapV2Node'}, {'name': 'InputsProtoAgentMapNode'}, {'name': 'TargetsStructureAgentsTrajectoryTraceV8Node'}, {'name': 'InputsProtoMapFusionSdMapNode'}, {'name': 'InputsProtoAMapFusionSdMapNode'}, {'name': 'InputsProtoEditPlanningNode'}, {'name': 'InputsTargetsStructureCarInfoNode'}, {'name': 'TargetsStructureAgentsTrajectoryTraceLongNode'}, {'name': 'TargetsStructureAgentsTrajectoryTraceRefineNode'}, {'name': 'TargetsStructureAgentsTrajectoryTraceRefineLongNode'}], [{'name': 'FeatureToRecordNode', 'required_features': ['inputs.proto.rasmapplus', 'inputs.occupancy.anchor_env_v2', 'inputs.occupancy.past_agent', 'inputs.occupancy.past_adc', 'inputs.occupancy.past_agent_map', 'inputs.occupancy.past_trajectory', 'inputs.occupancy.past_trajectory_img', 'inputs.proto.adc_info', 'inputs.structure.past_agent_info', 'inputs.structure.past_agent_info_v2', 'targets.structure.future_agent_info', 'targets.structure.future_agent_info_v2', 'targets.structure.future_ego_info'], 'optional_features': ['inputs.feature_map_v5', 'inputs.proto.agent_map_info', 'inputs.proto.traffic_light_response', 'inputs.proto.map_rasmapplus', 'inputs.proto.fusion_sdmap', 'inputs.occupancy.sdmap_routing_img', 'inputs.occupancy.sdmap_horizon_map_img_v2', 'inputs.occupancy.sdmap_routing_img_v2', 'inputs.occupancy.sdmap_horizon_map_img_v4', 'targets.structure.agents_trajectory_trace_v8', 'inputs.structure.past_car_info', 'targets.structure.future_car_info', 'inputs.proto.fusion_sdmap', 'inputs.proto.fusion_sdmap_amap', 'inputs.raw_data.camera_1', 'inputs.raw_data.c1_seq_v1', 'targets.structure.agents_trajectory_trace_long\"', 'targets.structure.agents_trajectory_trace_refine', 'targets.structure.agents_trajectory_trace_refine_long']}]]\n"
     ]
    }
   ],
   "source": [
    "print(graph_config.graph_name)\n",
    "print(graph_config.data_configs)\n",
    "print(graph_config.config)\n",
    "print(graph_config.stage)"
   ]
  },
  {
   "cell_type": "code",
   "execution_count": 23,
   "id": "5621de78",
   "metadata": {},
   "outputs": [
    {
     "data": {
      "text/plain": [
       "[[{'name': 'PdDpbagExtractorNode'}],\n",
       " [{'name': 'DownsampleNode', 'downsample_interval': 10}],\n",
       " [{'name': 'InputsProtoMapRasmapPlusNode'},\n",
       "  {'name': 'InputsProtoRasmapPlusNode'},\n",
       "  {'name': 'InputsProtoTrafficLightNode'},\n",
       "  {'name': 'InputsFeatureMapV5Node'},\n",
       "  {'name': 'InputsOccupancyEnvNode'},\n",
       "  {'name': 'InputsOccupancyPastAgentNode'},\n",
       "  {'name': 'TargetsStructureFutureAgentNode'},\n",
       "  {'name': 'TargetsStructureFutureAgentV2Node'},\n",
       "  {'name': 'TargetsStructureFutureCarStatusNode'},\n",
       "  {'name': 'InputsStructurePastAgentNode'},\n",
       "  {'name': 'InputsStructurePastAgentV2Node'},\n",
       "  {'name': 'InputsStructurePastAgentLightNode'},\n",
       "  {'name': 'InputsRawDataCamera1Node'},\n",
       "  {'name': 'InputsRawDataC1SeqNode'},\n",
       "  {'name': 'InputsOccupancySDMapNode'},\n",
       "  {'name': 'InputsOccupancySDMapV2Node'},\n",
       "  {'name': 'InputsProtoAgentMapNode'},\n",
       "  {'name': 'TargetsStructureAgentsTrajectoryTraceV8Node'},\n",
       "  {'name': 'InputsProtoMapFusionSdMapNode'},\n",
       "  {'name': 'InputsProtoAMapFusionSdMapNode'},\n",
       "  {'name': 'InputsProtoEditPlanningNode'},\n",
       "  {'name': 'InputsTargetsStructureCarInfoNode'},\n",
       "  {'name': 'TargetsStructureAgentsTrajectoryTraceLongNode'},\n",
       "  {'name': 'TargetsStructureAgentsTrajectoryTraceRefineNode'},\n",
       "  {'name': 'TargetsStructureAgentsTrajectoryTraceRefineLongNode'}],\n",
       " [{'name': 'FeatureToRecordNode',\n",
       "   'required_features': ['inputs.proto.rasmapplus',\n",
       "    'inputs.occupancy.anchor_env_v2',\n",
       "    'inputs.occupancy.past_agent',\n",
       "    'inputs.occupancy.past_adc',\n",
       "    'inputs.occupancy.past_agent_map',\n",
       "    'inputs.occupancy.past_trajectory',\n",
       "    'inputs.occupancy.past_trajectory_img',\n",
       "    'inputs.proto.adc_info',\n",
       "    'inputs.structure.past_agent_info',\n",
       "    'inputs.structure.past_agent_info_v2',\n",
       "    'targets.structure.future_agent_info',\n",
       "    'targets.structure.future_agent_info_v2',\n",
       "    'targets.structure.future_ego_info'],\n",
       "   'optional_features': ['inputs.feature_map_v5',\n",
       "    'inputs.proto.agent_map_info',\n",
       "    'inputs.proto.traffic_light_response',\n",
       "    'inputs.proto.map_rasmapplus',\n",
       "    'inputs.proto.fusion_sdmap',\n",
       "    'inputs.occupancy.sdmap_routing_img',\n",
       "    'inputs.occupancy.sdmap_horizon_map_img_v2',\n",
       "    'inputs.occupancy.sdmap_routing_img_v2',\n",
       "    'inputs.occupancy.sdmap_horizon_map_img_v4',\n",
       "    'targets.structure.agents_trajectory_trace_v8',\n",
       "    'inputs.structure.past_car_info',\n",
       "    'targets.structure.future_car_info',\n",
       "    'inputs.proto.fusion_sdmap',\n",
       "    'inputs.proto.fusion_sdmap_amap',\n",
       "    'inputs.raw_data.camera_1',\n",
       "    'inputs.raw_data.c1_seq_v1',\n",
       "    'targets.structure.agents_trajectory_trace_long\"',\n",
       "    'targets.structure.agents_trajectory_trace_refine',\n",
       "    'targets.structure.agents_trajectory_trace_refine_long']}]]"
      ]
     },
     "execution_count": 23,
     "metadata": {},
     "output_type": "execute_result"
    }
   ],
   "source": [
    "graph_config.stage"
   ]
  },
  {
   "cell_type": "markdown",
   "id": "2946ed14",
   "metadata": {},
   "source": []
  },
  {
   "cell_type": "code",
   "execution_count": 24,
   "id": "f72ea1d0",
   "metadata": {},
   "outputs": [
    {
     "data": {
      "text/plain": [
       "'/home/sunpeiyuan/deeproute/datamining/trajcaching'"
      ]
     },
     "execution_count": 24,
     "metadata": {},
     "output_type": "execute_result"
    }
   ],
   "source": [
    "import trajcaching\n",
    "\n",
    "path_list = \"/\".join(trajcaching.__file__.split(\"/\")[:-2])\n",
    "path_list"
   ]
  },
  {
   "cell_type": "code",
   "execution_count": 25,
   "id": "3c956b66",
   "metadata": {},
   "outputs": [
    {
     "name": "stdout",
     "output_type": "stream",
     "text": [
      "c098f6a1e0\n"
     ]
    }
   ],
   "source": [
    "import uuid\n",
    "\n",
    "def uu_id() -> str:\n",
    "    \"\"\"get uuid\"\"\"\n",
    "    return uuid.uuid4().hex[:10]\n",
    "\n",
    "uu_id = uu_id()\n",
    "print(uu_id)"
   ]
  },
  {
   "cell_type": "markdown",
   "id": "9d4eb70e",
   "metadata": {},
   "source": [
    "## deelooper批量提交"
   ]
  },
  {
   "cell_type": "code",
   "execution_count": 26,
   "id": "687eca94",
   "metadata": {},
   "outputs": [],
   "source": [
    "import pickle\n",
    "\n",
    "# 指定两个数据路径\n",
    "train_path = \"/mnt/csi-data-aly/shared/public/trajcaching_v3/record/master/pp_human_driving_scenes/havp_full_0609_train/havp_full_0609.pkl\"\n",
    "valid_path = \"/mnt/csi-data-aly/shared/public/trajcaching_v3/record/master/pp_human_driving_scenes/havp_full_0609_valid/havp_full_0609.pkl\"\n",
    "\n",
    "# 读取 .pkl 文件并提取 case_id\n",
    "def load_case_ids(pkl_path):\n",
    "    with open(pkl_path, \"rb\") as f:\n",
    "        data = pickle.load(f)\n",
    "    # case_ids = [item[\"case_id\"] for item in data]\n",
    "    return data\n",
    "\n",
    "# 分别获取 case_id 列表\n",
    "train_case_ids_data = load_case_ids(train_path)\n",
    "valid_case_ids_data = load_case_ids(valid_path)\n",
    "\n"
   ]
  },
  {
   "cell_type": "code",
   "execution_count": 34,
   "id": "a91f0a76",
   "metadata": {},
   "outputs": [
    {
     "data": {
      "text/plain": [
       "(9279654, 673873)"
      ]
     },
     "execution_count": 34,
     "metadata": {},
     "output_type": "execute_result"
    }
   ],
   "source": [
    "len(train_case_ids_data), len(valid_case_ids_data)"
   ]
  },
  {
   "cell_type": "code",
   "execution_count": 35,
   "id": "596a3717",
   "metadata": {},
   "outputs": [
    {
     "name": "stdout",
     "output_type": "stream",
     "text": [
      "RecordData(bag='6493278', timestamp_us=1748244323500000, tag={'required_features': ['inputs.structure.past_agent_info', 'inputs.occupancy.past_agent', 'inputs.occupancy.past_agent_map', 'inputs.proto.adc_info', 'inputs.occupancy.anchor_env_v2', 'targets.structure.future_ego_info', 'inputs.proto.traffic_light_response', 'targets.structure.future_agent_info', 'inputs.proto.rasmapplus', 'inputs.occupancy.past_adc', 'inputs.occupancy.past_trajectory_img', 'inputs.occupancy.past_trajectory'], 'optional_features': ['inputs.raw_data.camera_1', 'inputs.structure.havp_horizon_map', 'inputs.structure.past_agent_light', 'inputs.proto.map_rasmapplus', 'inputs.proto.agent_map_info', 'inputs.structure.havp_routing', 'inputs.raw_data.c1_seq_v1', 'targets.structure.agents_trajectory_trace_v8', 'inputs.structure.past_car_info', 'inputs.feature_map_v5', 'inputs.occupancy.havp_routing_img', 'targets.structure.future_car_info', 'inputs.occupancy.havp_horizon_map_img'], 'occupancy_max_x': 120.0, 'occupancy_min_x': -40.0, 'occupancy_max_y': 40.0, 'occupancy_min_y': -40.0, 'structure_sdmap_horizon_max_x': 280, 'structure_sdmap_horizon_min_x': -280, 'structure_sdmap_horizon_max_y': 280, 'structure_sdmap_horizon_min_y': -280, 'structure_sdmap_routing_max_x': 400, 'structure_sdmap_routing_min_x': -400, 'raw_image.camera1.coeff.extrinsic': array([[ 0.00794862, -0.99993567,  0.00808917, -0.00957032],\n",
      "       [ 0.00657396, -0.00803697, -0.99994607, -0.2556593 ],\n",
      "       [ 0.99994678,  0.00800135,  0.00650968, -0.9209421 ],\n",
      "       [ 0.        ,  0.        ,  0.        ,  1.        ]]), 'raw_image.camera1.coeff.intrinsic': array([[1.9175146e+03, 0.0000000e+00, 1.9238689e+03, 0.0000000e+00],\n",
      "       [0.0000000e+00, 1.9167834e+03, 1.0800354e+03, 0.0000000e+00],\n",
      "       [0.0000000e+00, 0.0000000e+00, 1.0000000e+00, 0.0000000e+00],\n",
      "       [0.0000000e+00, 0.0000000e+00, 0.0000000e+00, 1.0000000e+00]]), 'raw_image.camera1.coeff.distortion': array([-0.0284797, -0.0081161,  0.0003156,  0.0011749]), 'raw_image.camera1.coeff.image_size': array([2160, 3840], dtype=int32), 'lidar_cfg': {'vehicleToSensing': {'position': {'x': 1.5425, 'y': 0.0, 'z': 1.575}, 'orientation': {'qx': 0.0, 'qy': 0.0, 'qz': 0.0, 'qw': 1.0}}, 'config': [{'frameId': 'at128_202', 'model': 'HS_AT128_SOLID', 'sensorToLidar': [{'position': {'x': 0.66622394, 'y': 0.026466176, 'z': -0.1427}, 'orientation': {'qx': -0.0012581206, 'qy': 0.0032497114, 'qz': 0.002642068, 'qw': 0.99999046}}], 'ringIdStart': 0, 'ringIdEnd': 1, 'installAngleError': {'x': -0.14259034, 'y': -0.2248687, 'z': 0.30350658}}]}, 'vehicle_cfg': {'vehicleParam': {'frontEdgeToCenter': 4.046, 'backEdgeToCenter': 1.007, 'leftEdgeToCenter': 1.15, 'rightEdgeToCenter': 1.15, 'length': 5.053, 'width': 1.97, 'height': 1.93, 'maxAcceleration': 5.0, 'maxDeceleration': -5.0, 'maxSteerAngle': 568.0, 'steerRatio': 21.5, 'wheelBase': 3.085, 'wheelRollingRadius': 0.344, 'rearAxisLength': 1.71, 'rearLeftRadius': 0.32, 'rearRightRadius': 0.32}, 'sensorsParameters': {'vehicleToImuTranslation': {'x': 1.874, 'y': 0.0733, 'z': 0.166}, 'vehicleToSensingTranslation': {'x': 1.5425, 'y': 0.0, 'z': 1.575}}}, 'feishu_label': {}, 'tag_attribute': {'from': '6493278', 'trip_id': '33761091', 'bag_name': '6493278', 'optional_features': ['inputs.raw_data.camera_1', 'inputs.structure.havp_horizon_map', 'inputs.structure.past_agent_light', 'inputs.proto.map_rasmapplus', 'inputs.proto.agent_map_info', 'inputs.structure.havp_routing', 'inputs.raw_data.c1_seq_v1', 'targets.structure.agents_trajectory_trace_v8', 'inputs.structure.past_car_info', 'inputs.feature_map_v5', 'inputs.occupancy.havp_routing_img', 'targets.structure.future_car_info', 'inputs.occupancy.havp_horizon_map_img'], 'required_features': ['inputs.structure.past_agent_info', 'inputs.occupancy.past_agent', 'inputs.occupancy.past_agent_map', 'inputs.proto.adc_info', 'inputs.occupancy.anchor_env_v2', 'targets.structure.future_ego_info', 'inputs.proto.traffic_light_response', 'targets.structure.future_agent_info', 'inputs.proto.rasmapplus', 'inputs.occupancy.past_adc', 'inputs.occupancy.past_trajectory_img', 'inputs.occupancy.past_trajectory'], 'created_timestamp': 1749301959000, 'processor_pip_version': 'trajcaching==3.0.0+a72978f8', 'category': 'havp_test_old_pose', 'record_path': '/mnt/csi-data-aly/shared/public/trajcaching_v3/record/master/havp_daily_old_pose/havp_test_old_pose/33761091/6493278/1748244323500000.pkl', 'driving_mode': 0, 'feishu_id': '', 'trigger_id': '', 'feishu_label': {}, 'usage': 'havp_daily_old_pose'}}, data=<trajcaching.abstract_record.AttrFeatureData object at 0x7f82e4766c70>) 6493278\n"
     ]
    }
   ],
   "source": [
    "with open(train_case_ids_data[0], \"rb\") as f:\n",
    "        data = pickle.load(f)\n",
    "print(data, data.bag)"
   ]
  },
  {
   "cell_type": "code",
   "execution_count": 36,
   "id": "56bcdc39",
   "metadata": {},
   "outputs": [
    {
     "name": "stdout",
     "output_type": "stream",
     "text": [
      "Train 共提取 9279654 个 case_id，示例: ['6493278', '6270493', '5875538', '6277915', '5875584']\n",
      "Valid 共提取 673873 个 case_id，示例: ['6460580', '6466388', '5885343', '6460475', '5894942']\n",
      "共提取唯一 case_id 数量：29843\n",
      "   case_id\n",
      "0  6273053\n",
      "1  6496574\n",
      "2  6629490\n",
      "3  6276522\n",
      "4  6631743\n"
     ]
    }
   ],
   "source": [
    "import pickle\n",
    "import pandas as pd\n",
    "\n",
    "# 指定数据路径\n",
    "train_path = \"/mnt/csi-data-aly/shared/public/trajcaching_v3/record/master/pp_human_driving_scenes/havp_full_0609_train/havp_full_0609.pkl\"\n",
    "valid_path = \"/mnt/csi-data-aly/shared/public/trajcaching_v3/record/master/pp_human_driving_scenes/havp_full_0609_valid/havp_full_0609.pkl\"\n",
    "\n",
    "def extract_case_ids_from_path(pkl_path):\n",
    "    case_id_list = []\n",
    "    with open(pkl_path, \"rb\") as f:\n",
    "        path_list = pickle.load(f)  # 第一层是路径列表\n",
    "        for i, path in enumerate(path_list):\n",
    "            try:\n",
    "                parts = path.strip(\"/\").split(\"/\")\n",
    "                case_id = parts[-2]  # 倒数第二个目录名作为 case_id\n",
    "                case_id_list.append(case_id)\n",
    "            except Exception as e:\n",
    "                print(f\"[第{i}条] 提取 case_id 失败: {e}\")\n",
    "    return case_id_list\n",
    "\n",
    "# 提取 case_id\n",
    "train_case_ids = extract_case_ids_from_path(train_path)\n",
    "valid_case_ids = extract_case_ids_from_path(valid_path)\n",
    "\n",
    "# 打印示例\n",
    "print(f\"Train 共提取 {len(train_case_ids)} 个 case_id，示例: {train_case_ids[:5]}\")\n",
    "print(f\"Valid 共提取 {len(valid_case_ids)} 个 case_id，示例: {valid_case_ids[:5]}\")\n",
    "\n",
    "# 合并并去重\n",
    "all_case_ids = list(set(train_case_ids + valid_case_ids))\n",
    "\n",
    "# 转为 DataFrame\n",
    "df_case_ids = pd.DataFrame({\"case_id\": all_case_ids})\n",
    "\n",
    "# 打印信息\n",
    "print(f\"共提取唯一 case_id 数量：{len(df_case_ids)}\")\n",
    "print(df_case_ids.head())"
   ]
  },
  {
   "cell_type": "code",
   "execution_count": 37,
   "id": "a8f4ba13",
   "metadata": {},
   "outputs": [],
   "source": [
    "# 保存为 txt 文件（无标题行、无索引）\n",
    "# df_case_ids.to_csv(\"unique_case_ids.txt\", index=False, header=False)\n",
    "\n",
    "with open('unique_case_ids.txt', 'w') as f:\n",
    "    f.write('\\n'.join([ f\"{case}.case_id.bag\" for case in all_case_ids ]))"
   ]
  }
 ],
 "metadata": {
  "kernelspec": {
   "display_name": "trajcaching-env",
   "language": "python",
   "name": "python3"
  },
  "language_info": {
   "codemirror_mode": {
    "name": "ipython",
    "version": 3
   },
   "file_extension": ".py",
   "mimetype": "text/x-python",
   "name": "python",
   "nbconvert_exporter": "python",
   "pygments_lexer": "ipython3",
   "version": "3.9.22"
  }
 },
 "nbformat": 4,
 "nbformat_minor": 5
}
