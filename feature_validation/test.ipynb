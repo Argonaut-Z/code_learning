{
 "cells": [
  {
   "cell_type": "code",
   "execution_count": 2,
   "id": "a18c696c",
   "metadata": {},
   "outputs": [
    {
     "data": {
      "text/plain": [
       "520.0"
      ]
     },
     "execution_count": 2,
     "metadata": {},
     "output_type": "execute_result"
    }
   ],
   "source": [
    "start_timestamp = 1737545777700000\n",
    "end_timestamp = 1737545803700000\n",
    "\n",
    "(end_timestamp - start_timestamp) / 10000 / 5"
   ]
  }
 ],
 "metadata": {
  "kernelspec": {
   "display_name": "trajcaching-env",
   "language": "python",
   "name": "python3"
  },
  "language_info": {
   "codemirror_mode": {
    "name": "ipython",
    "version": 3
   },
   "file_extension": ".py",
   "mimetype": "text/x-python",
   "name": "python",
   "nbconvert_exporter": "python",
   "pygments_lexer": "ipython3",
   "version": "3.9.22"
  }
 },
 "nbformat": 4,
 "nbformat_minor": 5
}
